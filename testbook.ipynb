{
 "cells": [
  {
   "cell_type": "code",
   "execution_count": 1,
   "metadata": {},
   "outputs": [
    {
     "name": "stdout",
     "output_type": "stream",
     "text": [
      "using device:  cpu\n"
     ]
    }
   ],
   "source": [
    "%reload_ext autoreload\n",
    "%autoreload 2\n",
    "\n",
    "# %matplotlib qt\n",
    "\n",
    "import time\n",
    "from tqdm import tqdm\n",
    "import numpy as np\n",
    "import scipy as sp\n",
    "import sklearn\n",
    "import torch\n",
    "import torch.nn.functional as F\n",
    "from torch import nn\n",
    "from torchvision.transforms import v2 as transforms\n",
    "\n",
    "from matplotlib import pyplot as plt\n",
    "\n",
    "from networkAlignmentAnalysis.models.registry import get_model\n",
    "from networkAlignmentAnalysis.datasets import get_dataset\n",
    "from networkAlignmentAnalysis.experiments.registry import get_experiment\n",
    "from networkAlignmentAnalysis import utils\n",
    "from networkAlignmentAnalysis import files\n",
    "from networkAlignmentAnalysis import train\n",
    "\n",
    "DEVICE = 'cuda' if torch.cuda.is_available() else 'cpu'\n",
    "print('using device: ', DEVICE)"
   ]
  },
  {
   "cell_type": "code",
   "execution_count": 12,
   "metadata": {},
   "outputs": [],
   "source": [
    "@torch.no_grad()\n",
    "def cvPCA(X1, X2):\n",
    "    \"\"\"X1, X2 are both (dimensions x samples)\"\"\"\n",
    "    D, B = X1.shape\n",
    "    assert X2.shape == (D, B), \"shape of X1 and X2 is not the same\"\n",
    "    _, u = utils.smart_pca(X1)\n",
    "    \n",
    "    cproj0 = X1.T @ u\n",
    "    cproj1 = X2.T @ u\n",
    "    ss = (cproj0 * cproj1).mean(axis=0)\n",
    "    return ss\n",
    "\n",
    "def get_num_components(nc, shape):\n",
    "    return nc if nc is not None else min(shape)\n",
    "\n",
    "@torch.no_grad()\n",
    "def shuff_cvPCA(X1, X2, nshuff=5, cvmethod=cvPCA):\n",
    "    \"\"\"X1, X2 are both (dimensions x samples)\"\"\"\n",
    "    D, B = X1.shape\n",
    "    assert X2.shape == (D, B), \"shape of X1 and X2 is not the same\"\n",
    "    nc = get_num_components(None, (D, B))\n",
    "    ss=torch.zeros((nshuff,nc))\n",
    "    X = torch.stack((X1, X2))\n",
    "    for k in range(nshuff):\n",
    "        iflip = 1*(torch.rand(B) > 0.5)\n",
    "        X1c = torch.gather(X, 0, iflip.view(1, 1, -1).expand(1, D, -1)).squeeze(0)\n",
    "        X2c = torch.gather(X, 0, -(iflip-1).view(1, 1, -1).expand(1, D, -1)).squeeze(0)\n",
    "        ss[k]=cvmethod(X1c, X2c)\n",
    "    return ss"
   ]
  },
  {
   "cell_type": "code",
   "execution_count": 13,
   "metadata": {},
   "outputs": [
    {
     "name": "stderr",
     "output_type": "stream",
     "text": [
      "100%|██████████| 59/59 [00:09<00:00,  6.05it/s]\n"
     ]
    },
    {
     "name": "stdout",
     "output_type": "stream",
     "text": [
      "torch.Size([60000, 784]) torch.Size([60000])\n"
     ]
    }
   ],
   "source": [
    "dataset = get_dataset(\"MNIST\", build=True)\n",
    "images = []\n",
    "labels = []\n",
    "for batch in tqdm(dataset.train_loader):\n",
    "    cimages, clabels = dataset.unwrap_batch(batch)\n",
    "    images.append(cimages)\n",
    "    labels.append(clabels)\n",
    "images = torch.concatenate(images, dim=0)\n",
    "images = images.view(images.size(0), -1)\n",
    "images = images - images.mean(dim=0)\n",
    "labels = torch.concatenate(labels, dim=0)\n",
    "print(images.shape, labels.shape)\n",
    "\n",
    "# get stacked indices to the elements of each class\n",
    "classes = torch.unique(labels)\n",
    "num_classes = len(classes)\n",
    "idx_to_class = [torch.where(labels == ii)[0] for ii in classes]\n",
    "num_per_class = [len(idx) for idx in idx_to_class]\n",
    "min_per_class = min(num_per_class)\n",
    "if any([npc > min_per_class for npc in num_per_class]):\n",
    "    idx_to_class = [idx[:min_per_class] for idx in idx_to_class]\n",
    "\n",
    "# use single tensor for fast indexing\n",
    "idx_to_class = torch.stack(idx_to_class).unsqueeze(2)\n",
    "\n",
    "# (classes, images, image_dimension)\n",
    "images_by_class = torch.gather(images.unsqueeze(0).expand(num_classes, -1, -1), 1, idx_to_class.expand(-1, -1, images.size(1)))"
   ]
  },
  {
   "cell_type": "code",
   "execution_count": 16,
   "metadata": {},
   "outputs": [],
   "source": [
    "# make a CV dataset\n",
    "num_per_class = images_by_class.size(1)\n",
    "random_sort = torch.randperm(num_per_class)\n",
    "train_examples = random_sort[:num_per_class//2]\n",
    "test_examples = random_sort[num_per_class//2:num_per_class//2+num_per_class//2]\n",
    "images_train = images_by_class[:, train_examples].reshape(-1, images.size(1))\n",
    "images_test = images_by_class[:, test_examples].reshape(-1, images.size(1))\n",
    "\n",
    "# measure eigenfeatures\n",
    "w, v = utils.smart_pca(images.T)\n",
    "w = w / torch.sum(w)\n",
    "\n",
    "# cvPCA from method\n",
    "cc = shuff_cvPCA(images_train.T, images_test.T, nshuff=5)\n",
    "cc = cc.mean(dim=0)\n",
    "cc = cc / torch.sum(cc)"
   ]
  },
  {
   "cell_type": "code",
   "execution_count": 21,
   "metadata": {},
   "outputs": [
    {
     "data": {
      "image/png": "[encoded data removed]",
      "text/plain": [
       "<Figure size 640x480 with 1 Axes>"
      ]
     },
     "metadata": {},
     "output_type": "display_data"
    }
   ],
   "source": [
    "plt.plot(range(784), torch.cumsum(w, 0), c='k', label='all data')\n",
    "plt.plot(range(784), torch.cumsum(cc, 0), c='r', label='cvPCA')\n",
    "plt.xscale('log')\n",
    "# plt.yscale('log')\n",
    "# plt.ylim(1e-5)\n",
    "plt.legend()\n",
    "plt.show()\n",
    "\n",
    "\n",
    "# I'd like to compare these cvPCA results to the observed alignment distribution\n",
    "# to determine if the reason alignment and delta alignment is much higher than expected\n",
    "# according to Ila Fiete is because of the batching implicitly \"cross-validating\" the \n",
    "# updates according to class-dependent structure rather than simply all structure. \n",
    "\n",
    "# In other words, if it is the case that the network primarily learns stimulus specific\n",
    "# dimensions, rather than full data dimensions, it may be because any other dimensions\n",
    "# are ignored by the batching. (And therefore implicitly prevents over-generalization!)\n",
    "\n",
    "# Other experiment: Determine if these dimensions are overrepresented in the dataset. "
   ]
  },
  {
   "cell_type": "code",
   "execution_count": null,
   "metadata": {},
   "outputs": [],
   "source": []
  },
  {
   "cell_type": "code",
   "execution_count": null,
   "metadata": {},
   "outputs": [],
   "source": []
  },
  {
   "cell_type": "code",
   "execution_count": null,
   "metadata": {},
   "outputs": [],
   "source": []
  }
 ],
 "metadata": {
  "kernelspec": {
   "display_name": "networkAlignmentAnalysis",
   "language": "python",
   "name": "python3"
  },
  "language_info": {
   "codemirror_mode": {
    "name": "ipython",
    "version": 3
   },
   "file_extension": ".py",
   "mimetype": "text/x-python",
   "name": "python",
   "nbconvert_exporter": "python",
   "pygments_lexer": "ipython3",
   "version": "3.9.18"
  }
 },
 "nbformat": 4,
 "nbformat_minor": 2
}
