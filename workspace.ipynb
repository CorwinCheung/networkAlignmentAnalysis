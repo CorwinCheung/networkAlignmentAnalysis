{
 "cells": [
  {
   "cell_type": "code",
   "execution_count": 17,
   "metadata": {},
   "outputs": [
    {
     "name": "stdout",
     "output_type": "stream",
     "text": [
      "using device:  cuda\n"
     ]
    }
   ],
   "source": [
    "%reload_ext autoreload\n",
    "%autoreload 2\n",
    "\n",
    "import time\n",
    "from tqdm import tqdm\n",
    "import numpy as np\n",
    "import scipy as sp\n",
    "import torch\n",
    "import torch.nn.functional as F\n",
    "from torch import nn\n",
    "from torchvision import transforms\n",
    "\n",
    "from matplotlib import pyplot as plt\n",
    "\n",
    "from networkAlignmentAnalysis.models.models import MLP, CNN2P2, AlexNet\n",
    "from networkAlignmentAnalysis import utils\n",
    "from networkAlignmentAnalysis import datasets\n",
    "\n",
    "DEVICE = 'cuda' if torch.cuda.is_available() else 'cpu'\n",
    "print('using device: ', DEVICE)"
   ]
  },
  {
   "cell_type": "code",
   "execution_count": 18,
   "metadata": {},
   "outputs": [],
   "source": [
    "def gray_to_rgb(x):\n",
    "    return x.repeat(1, 3, 1, 1)\n",
    "\n",
    "preprocess = transforms.Compose([\n",
    "            transforms.ToTensor(), # first, convert image to PyTorch tensor\n",
    "            transforms.Normalize((0.1307,), (0.3081,)), # normalize inputs\n",
    "            # transforms.Resize((224, 224)),\n",
    "            transforms.Lambda(torch.flatten), # convert to vectors\n",
    "        ])\n",
    "trainloader, testloader = datasets.downloadMNIST(batchSize=1024, preprocess=preprocess)"
   ]
  },
  {
   "cell_type": "code",
   "execution_count": 19,
   "metadata": {},
   "outputs": [
    {
     "name": "stdout",
     "output_type": "stream",
     "text": [
      "iteration:  0\n"
     ]
    },
    {
     "name": "stderr",
     "output_type": "stream",
     "text": [
      "59it [00:03, 15.38it/s]\n"
     ]
    },
    {
     "name": "stdout",
     "output_type": "stream",
     "text": [
      "Loss in epoch   0: 0.844, Accuracy: 73.68%.\n",
      "iteration:  1\n"
     ]
    },
    {
     "name": "stderr",
     "output_type": "stream",
     "text": [
      "59it [00:03, 15.40it/s]\n"
     ]
    },
    {
     "name": "stdout",
     "output_type": "stream",
     "text": [
      "Loss in epoch   1: 0.513, Accuracy: 85.53%.\n",
      "iteration:  2\n"
     ]
    },
    {
     "name": "stderr",
     "output_type": "stream",
     "text": [
      "59it [00:03, 15.43it/s]\n"
     ]
    },
    {
     "name": "stdout",
     "output_type": "stream",
     "text": [
      "Loss in epoch   2: 0.489, Accuracy: 86.35%.\n",
      "iteration:  3\n"
     ]
    },
    {
     "name": "stderr",
     "output_type": "stream",
     "text": [
      "59it [00:03, 15.58it/s]\n"
     ]
    },
    {
     "name": "stdout",
     "output_type": "stream",
     "text": [
      "Loss in epoch   3: 0.328, Accuracy: 90.79%.\n",
      "iteration:  4\n"
     ]
    },
    {
     "name": "stderr",
     "output_type": "stream",
     "text": [
      "59it [00:03, 15.40it/s]\n"
     ]
    },
    {
     "name": "stdout",
     "output_type": "stream",
     "text": [
      "Loss in epoch   4: 0.359, Accuracy: 89.14%.\n",
      "iteration:  5\n"
     ]
    },
    {
     "name": "stderr",
     "output_type": "stream",
     "text": [
      "59it [00:03, 15.31it/s]\n"
     ]
    },
    {
     "name": "stdout",
     "output_type": "stream",
     "text": [
      "Loss in epoch   5: 0.337, Accuracy: 90.46%.\n",
      "iteration:  6\n"
     ]
    },
    {
     "name": "stderr",
     "output_type": "stream",
     "text": [
      "59it [00:03, 15.45it/s]\n"
     ]
    },
    {
     "name": "stdout",
     "output_type": "stream",
     "text": [
      "Loss in epoch   6: 0.317, Accuracy: 93.26%.\n",
      "iteration:  7\n"
     ]
    },
    {
     "name": "stderr",
     "output_type": "stream",
     "text": [
      "59it [00:03, 15.55it/s]\n"
     ]
    },
    {
     "name": "stdout",
     "output_type": "stream",
     "text": [
      "Loss in epoch   7: 0.362, Accuracy: 91.94%.\n",
      "iteration:  8\n"
     ]
    },
    {
     "name": "stderr",
     "output_type": "stream",
     "text": [
      "59it [00:03, 15.46it/s]\n"
     ]
    },
    {
     "name": "stdout",
     "output_type": "stream",
     "text": [
      "Loss in epoch   8: 0.274, Accuracy: 92.11%.\n",
      "iteration:  9\n"
     ]
    },
    {
     "name": "stderr",
     "output_type": "stream",
     "text": [
      "59it [00:03, 15.53it/s]\n"
     ]
    },
    {
     "name": "stdout",
     "output_type": "stream",
     "text": [
      "Loss in epoch   9: 0.248, Accuracy: 93.09%.\n",
      "iteration:  10\n"
     ]
    },
    {
     "name": "stderr",
     "output_type": "stream",
     "text": [
      "59it [00:03, 15.42it/s]\n"
     ]
    },
    {
     "name": "stdout",
     "output_type": "stream",
     "text": [
      "Loss in epoch  10: 0.274, Accuracy: 92.93%.\n",
      "iteration:  11\n"
     ]
    },
    {
     "name": "stderr",
     "output_type": "stream",
     "text": [
      "59it [00:03, 15.49it/s]\n"
     ]
    },
    {
     "name": "stdout",
     "output_type": "stream",
     "text": [
      "Loss in epoch  11: 0.254, Accuracy: 93.26%.\n",
      "iteration:  12\n"
     ]
    },
    {
     "name": "stderr",
     "output_type": "stream",
     "text": [
      "59it [00:03, 15.28it/s]\n"
     ]
    },
    {
     "name": "stdout",
     "output_type": "stream",
     "text": [
      "Loss in epoch  12: 0.331, Accuracy: 92.11%.\n",
      "iteration:  13\n"
     ]
    },
    {
     "name": "stderr",
     "output_type": "stream",
     "text": [
      "59it [00:03, 15.42it/s]\n"
     ]
    },
    {
     "name": "stdout",
     "output_type": "stream",
     "text": [
      "Loss in epoch  13: 0.225, Accuracy: 93.91%.\n",
      "iteration:  14\n"
     ]
    },
    {
     "name": "stderr",
     "output_type": "stream",
     "text": [
      "59it [00:03, 15.06it/s]\n"
     ]
    },
    {
     "name": "stdout",
     "output_type": "stream",
     "text": [
      "Loss in epoch  14: 0.270, Accuracy: 93.09%.\n",
      "iteration:  15\n"
     ]
    },
    {
     "name": "stderr",
     "output_type": "stream",
     "text": [
      "59it [00:03, 15.21it/s]\n"
     ]
    },
    {
     "name": "stdout",
     "output_type": "stream",
     "text": [
      "Loss in epoch  15: 0.255, Accuracy: 92.93%.\n",
      "iteration:  16\n"
     ]
    },
    {
     "name": "stderr",
     "output_type": "stream",
     "text": [
      "59it [00:03, 15.43it/s]\n"
     ]
    },
    {
     "name": "stdout",
     "output_type": "stream",
     "text": [
      "Loss in epoch  16: 0.221, Accuracy: 93.75%.\n",
      "iteration:  17\n"
     ]
    },
    {
     "name": "stderr",
     "output_type": "stream",
     "text": [
      "59it [00:03, 15.16it/s]\n"
     ]
    },
    {
     "name": "stdout",
     "output_type": "stream",
     "text": [
      "Loss in epoch  17: 0.211, Accuracy: 95.23%.\n",
      "iteration:  18\n"
     ]
    },
    {
     "name": "stderr",
     "output_type": "stream",
     "text": [
      "59it [00:03, 15.24it/s]\n"
     ]
    },
    {
     "name": "stdout",
     "output_type": "stream",
     "text": [
      "Loss in epoch  18: 0.224, Accuracy: 94.24%.\n",
      "iteration:  19\n"
     ]
    },
    {
     "name": "stderr",
     "output_type": "stream",
     "text": [
      "59it [00:03, 14.98it/s]"
     ]
    },
    {
     "name": "stdout",
     "output_type": "stream",
     "text": [
      "Loss in epoch  19: 0.208, Accuracy: 93.75%.\n"
     ]
    },
    {
     "name": "stderr",
     "output_type": "stream",
     "text": [
      "\n"
     ]
    }
   ],
   "source": [
    "net = MLP()\n",
    "# net = CNN2P2()\n",
    "# net = AlexNet()\n",
    "net.to(DEVICE)\n",
    "    \n",
    "# Prepare Training Functions \n",
    "loss_function = nn.CrossEntropyLoss() # Note: this automatically applies softmax...\n",
    "# optimizer = torch.optim.SGD(net.parameters(), lr=1e-1)\n",
    "# optimizer = torch.optim.Adadelta(net.parameters())\n",
    "optimizer = torch.optim.Adam(net.parameters(), lr=1e-3)\n",
    "\n",
    "# Preallocate summary variables  \n",
    "iterations = 20\n",
    "numTrainingSteps = len(trainloader)*iterations\n",
    "trackLoss = torch.zeros(numTrainingSteps)\n",
    "trackAccuracy = torch.zeros(numTrainingSteps)\n",
    "alignFull = []\n",
    "deltaWeights = []\n",
    "\n",
    "init_weights = net.get_alignment_weights()\n",
    "\n",
    "# Train Network & Measure Integration\n",
    "t = time.time()\n",
    "for epoch in range(0, iterations): \n",
    "    print('iteration: ', epoch)\n",
    "    \n",
    "    # Set current loss value\n",
    "    currentLoss = 0.0\n",
    "    numBatches = 0\n",
    "    currentCorrect = 0\n",
    "    currentAttempted = 0\n",
    "\n",
    "    for idx,batch in tqdm(enumerate(trainloader)):\n",
    "        cidx = epoch*len(trainloader) + idx\n",
    "        \n",
    "        images, label = batch\n",
    "        # images = gray_to_rgb(images)\n",
    "        images = images.to(DEVICE)\n",
    "        label = label.to(DEVICE)\n",
    "\n",
    "        # Zero the gradients\n",
    "        optimizer.zero_grad()\n",
    "\n",
    "        # Perform forward pass\n",
    "        outputs = net(images, store_hidden=True)\n",
    "\n",
    "        # Perform backward pass & optimization\n",
    "        loss = loss_function(outputs, label)\n",
    "        loss.backward()\n",
    "        optimizer.step()\n",
    "\n",
    "        # Track Loss and Accuracy\n",
    "        trackLoss[cidx] = loss.item()\n",
    "        trackAccuracy[cidx] = 100*torch.sum(torch.argmax(outputs,axis=1)==label)/images.shape[0]\n",
    "\n",
    "        # Measure Integration\n",
    "        alignFull.append(net.measure_alignment(images, precomputed=True, method='alignment'))\n",
    "        \n",
    "        # Measure Change in Weights\n",
    "        deltaWeights.append(net.compare_weights(init_weights))\n",
    "\n",
    "    # Print statistics for each epoch\n",
    "    print('Loss in epoch %3d: %.3f, Accuracy: %.2f%%.' % (epoch, loss.item(), 100*torch.sum(torch.argmax(outputs,axis=1)==label)/images.shape[0]))\n"
   ]
  },
  {
   "cell_type": "code",
   "execution_count": 20,
   "metadata": {},
   "outputs": [
    {
     "data": {
      "image/png": "[encoded data removed]",
      "text/plain": [
       "<Figure size 1200x300 with 3 Axes>"
      ]
     },
     "metadata": {},
     "output_type": "display_data"
    }
   ],
   "source": [
    "# This code plots absolute values of loss, accuracy, similarity, and integration\n",
    "# -- useful for knowing what the true (unnormalized) values are --\n",
    "numEpoch = trackLoss.shape[0]\n",
    "alignMean = utils.avg_from_full(alignFull)\n",
    "\n",
    "# Note: similarity and integration are only current -- I changed it to simMean,intMean,simStd,intStd for future reference and for plotting error bars!\n",
    "fig,ax = plt.subplots(1,3,figsize=(12,3))\n",
    "ax[0].plot(trackLoss)\n",
    "ax[0].set_xlabel('Epoch')\n",
    "ax[0].set_ylabel('Loss')\n",
    "ax[1].plot(trackAccuracy)\n",
    "ax[1].set_xlabel('Epoch')\n",
    "ax[1].set_ylabel('Accuracy (%)')\n",
    "for i in range(alignMean.shape[0]):\n",
    "    ax[2].plot(alignMean[i,:]*100,label=f'Layer{i}')\n",
    "ax[2].set_xlabel('Epoch')\n",
    "ax[2].set_ylabel('Alignment (%VarExpl)')\n",
    "ax[2].legend(fontsize=8, loc='upper right')\n",
    "\n",
    "plt.tight_layout()"
   ]
  },
  {
   "cell_type": "code",
   "execution_count": 8,
   "metadata": {},
   "outputs": [],
   "source": [
    "# TODO\n",
    "# 1.1. include additional AlignmentModel methods stored in extra class in base model\n",
    "# -- the measure_eigenfeature method is baaaaad -- because it doesn't account for convolutional layers\n",
    "# -- I should consider weighing the each_stride average by the average norm of the input in that stride...\n",
    "# 2. Make datasets a class\n",
    "# 3. Make training a nice method\n",
    "# 4. Rewrite existing analysis pipelines\n",
    "# 5. SLURM!!!!"
   ]
  },
  {
   "cell_type": "code",
   "execution_count": 23,
   "metadata": {},
   "outputs": [
    {
     "name": "stdout",
     "output_type": "stream",
     "text": [
      "0.21610142290592194 1.1849899291992188 1.5437065362930298\n",
      "tensor(94.0789, device='cuda:0') tensor(78.2895, device='cuda:0') tensor(47.8618, device='cuda:0')\n"
     ]
    }
   ],
   "source": [
    "fraction_dropout = 0.33\n",
    "idx_alignment = [torch.argsort(-align) for align in alignFull[-1]]\n",
    "idx_align_high = [idx[:int(len(idx)*fraction_dropout)] for idx in idx_alignment]\n",
    "idx_align_low = [idx[-int(len(idx)*fraction_dropout):] for idx in idx_alignment]\n",
    "out_no_low, _ = net.forward_targeted_dropout(images, idx_align_low[:-1], range(len(idx_align_low)-1))\n",
    "out_no_high, _ = net.forward_targeted_dropout(images, idx_align_high[:-1], range(len(idx_align_high)-1))\n",
    "out = net(images)\n",
    "\n",
    "loss_no_low = loss_function(out_no_low, label).item()\n",
    "loss_no_high = loss_function(out_no_high, label).item()\n",
    "loss_full = loss_function(out, label).item()\n",
    "\n",
    "acc_no_low = 100*torch.sum(torch.argmax(out_no_low, dim=1)==label)/images.size(0)\n",
    "acc_no_high = 100*torch.sum(torch.argmax(out_no_high, dim=1)==label)/images.size(0)\n",
    "acc_full = 100*torch.sum(torch.argmax(out, dim=1)==label)/images.size(0)\n",
    "\n",
    "print(loss_full, loss_no_low, loss_no_high)\n",
    "print(acc_full, acc_no_low, acc_no_high)"
   ]
  },
  {
   "cell_type": "code",
   "execution_count": null,
   "metadata": {},
   "outputs": [],
   "source": []
  }
 ],
 "metadata": {
  "kernelspec": {
   "display_name": "networkAlignmentAnalysis",
   "language": "python",
   "name": "python3"
  },
  "language_info": {
   "codemirror_mode": {
    "name": "ipython",
    "version": 3
   },
   "file_extension": ".py",
   "mimetype": "text/x-python",
   "name": "python",
   "nbconvert_exporter": "python",
   "pygments_lexer": "ipython3",
   "version": "3.9.18"
  }
 },
 "nbformat": 4,
 "nbformat_minor": 2
}
