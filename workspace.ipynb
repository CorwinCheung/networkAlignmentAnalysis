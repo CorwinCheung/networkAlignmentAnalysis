{
 "cells": [
  {
   "cell_type": "code",
   "execution_count": 11,
   "metadata": {},
   "outputs": [
    {
     "name": "stdout",
     "output_type": "stream",
     "text": [
      "using device:  cuda\n"
     ]
    }
   ],
   "source": [
    "%reload_ext autoreload\n",
    "%autoreload 2\n",
    "\n",
    "import time\n",
    "from tqdm import tqdm\n",
    "import numpy as np\n",
    "import scipy as sp\n",
    "import torch\n",
    "import torch.nn.functional as F\n",
    "from torch import nn\n",
    "from torchvision.transforms import v2 as transforms\n",
    "\n",
    "from matplotlib import pyplot as plt\n",
    "\n",
    "from networkAlignmentAnalysis.models.registry import get_model\n",
    "from networkAlignmentAnalysis.datasets import get_dataset\n",
    "from networkAlignmentAnalysis.experiments.registry import get_experiment\n",
    "from networkAlignmentAnalysis import utils\n",
    "from networkAlignmentAnalysis import files\n",
    "\n",
    "DEVICE = 'cuda' if torch.cuda.is_available() else 'cpu'\n",
    "print('using device: ', DEVICE)"
   ]
  },
  {
   "cell_type": "code",
   "execution_count": 8,
   "metadata": {},
   "outputs": [],
   "source": [
    "# TODO\n",
    "# 1.1. include additional AlignmentModel methods stored in extra class in base model\n",
    "\n",
    "# I should also break apart the measure_eigenfeatures method for better parameter handling\n",
    "# and also to allow use of components of the method in other contexts\n",
    "\n",
    "# 4. Rewrite existing analysis pipelines\n",
    "# 5. SLURM!!!!\n",
    "\n",
    "# Figure out why convolutional alignment measurement is slow...\n",
    "\n",
    "# 2. Make CIFAR class -- prioritize\n",
    "\n",
    "# Basic alignment_comparison Analyses (or maybe for alignment_stats):\n",
    "# - compare initial to final alignment...\n",
    "# - compare initial alignment to delta weight norm...\n",
    "# - observe alignment of delta weight\n",
    "# - compare alignment to outgoing delta weight norm!\n",
    "\n",
    "# Eigenfeature analyses:\n",
    "# - Measure beta_adversarial (figure out how adversarial examples map onto eigenvectors)\n",
    "# - Determine contribution of each eigenfeature on performance with a eigenvector dropout experiment\n",
    "# ------ start by just looking at amplitude of activity on each eigenvector within each layer\n",
    "\n",
    "# alignmentShaping.ipynb has an adversarial experiment worth looking at"
   ]
  },
  {
   "cell_type": "code",
   "execution_count": 133,
   "metadata": {},
   "outputs": [],
   "source": [
    "import cProfile\n",
    "\n",
    "net = get_model('CNN2P2', build=True, each_stride=True).to(DEVICE)\n",
    "dataset = get_dataset('MNIST', build=True, transform_parameters=net, device=DEVICE)\n",
    "\n",
    "batch = next(iter(dataset.test_loader))\n",
    "images, labels = dataset.unwrap_batch(batch)\n",
    "\n",
    "# Perform forward pass\n",
    "output = net(images, store_hidden=True)"
   ]
  },
  {
   "cell_type": "code",
   "execution_count": 134,
   "metadata": {},
   "outputs": [],
   "source": [
    "def measure_alignment(self, x, swap_index=[0, 1, 2, 3], precomputed=False, method='alignment'):\n",
    "    # Pre-layer activations start with input (x) and ignore output\n",
    "    activations = [x, *self.get_activations(x=x, precomputed=precomputed)[:-1]]\n",
    "    alignment = []\n",
    "    duration = []\n",
    "    activations = [activations[i] for i in swap_index]\n",
    "    layers = [self.get_alignment_layers()[i] for i in swap_index]\n",
    "    metaparams = [self.get_alignment_metaparameters()[i] for i in swap_index]\n",
    "    zipped = zip(activations, layers, metaparams)\n",
    "    for idx, (activation, layer, metaprms) in enumerate(zipped):\n",
    "        t = time.time()\n",
    "        alignment.append(metaprms['alignment_method'](activation, layer, method=method))\n",
    "        duration.append(time.time() - t)\n",
    "    return alignment, duration\n",
    "\n",
    "_ = measure_alignment(net, images, precomputed=True)"
   ]
  },
  {
   "cell_type": "code",
   "execution_count": 139,
   "metadata": {},
   "outputs": [
    {
     "name": "stderr",
     "output_type": "stream",
     "text": [
      "100%|██████████| 10/10 [00:04<00:00,  2.22it/s]"
     ]
    },
    {
     "name": "stdout",
     "output_type": "stream",
     "text": [
      "duration: [0.24064135551452637, 0.03815197944641113]\n"
     ]
    },
    {
     "name": "stderr",
     "output_type": "stream",
     "text": [
      "\n"
     ]
    }
   ],
   "source": [
    "swap_index = [0, 1, 2, 3]\n",
    "duration = [0]* len(swap_index)\n",
    "for batch in tqdm(dataset.test_loader):\n",
    "    images, labels = dataset.unwrap_batch(batch)\n",
    "    output = net(images, store_hidden=True)\n",
    "    align, cduration = measure_alignment(net, images, swap_index=swap_index,precomputed=True)\n",
    "    for i in range(len(duration)):\n",
    "        duration[i] += cduration[i]\n",
    "\n",
    "print('duration:', duration)"
   ]
  },
  {
   "cell_type": "code",
   "execution_count": 78,
   "metadata": {},
   "outputs": [],
   "source": [
    "def test_measure_alignment(self, x, swap_index, precomputed=False, method='alignment', num_checks=10):\n",
    "    # Pre-layer activations start with input (x) and ignore output\n",
    "    activations = [x, *self.get_activations(x=x, precomputed=precomputed)[:-1]]\n",
    "    alignment = []\n",
    "    activations = [activations[i] for i in swap_index]\n",
    "    layers = [self.get_alignment_layers()[i] for i in swap_index]\n",
    "    metaparams = [self.get_alignment_metaparameters()[i] for i in swap_index]\n",
    "    zipped = zip(activations, layers, metaparams)\n",
    "    for idx, (activation, layer, metaprms) in enumerate(zipped):\n",
    "        t = time.time()\n",
    "        # _ = metaprms['alignment_method'](activation, layer, method=method)\n",
    "        alignment.append(metaprms['alignment_method'](activation, layer, method=method))\n",
    "        print(\"idx:\", swap_index[idx], time.time() - t)\n",
    "        \n",
    "        # if idx==2:\n",
    "        #     profiler = cProfile.Profile()\n",
    "        #     profiler.enable()\n",
    "        #     for _ in range(num_checks):\n",
    "        #         _ = metaprms['alignment_method'](activation, layer, method=method)\n",
    "        #     profiler.disable()\n",
    "    return alignment #, profiler\n",
    "\n",
    "def testidx_measure_alignment(self, x, swap_index, precomputed=False, method='alignment', num_checks=10):\n",
    "    # Pre-layer activations start with input (x) and ignore output\n",
    "    activations = [x, *self.get_activations(x=x, precomputed=precomputed)[:-1]]\n",
    "    alignment = []\n",
    "    activations = [activations[i] for i in swap_index]\n",
    "    layers = [self.get_alignment_layers()[i] for i in swap_index]\n",
    "    metaparams = [self.get_alignment_metaparameters()[i] for i in swap_index]\n",
    "    for idx in range(len(activations)):\n",
    "        t = time.time()\n",
    "        # _ = metaprms['alignment_method'](activation, layer, method=method)\n",
    "        alignment.append(metaparams[idx]['alignment_method'](activations[idx], layers[idx], method=method))\n",
    "        print(\"idx:\", swap_index[idx], time.time() - t)\n",
    "        \n",
    "        # if idx==2:\n",
    "        #     profiler = cProfile.Profile()\n",
    "        #     profiler.enable()\n",
    "        #     for _ in range(num_checks):\n",
    "        #         _ = metaparams[idx]['alignment_method'](activations[idx], layers[idx], method=method)\n",
    "        #     profiler.disable()\n",
    "    return alignment #, profiler"
   ]
  },
  {
   "cell_type": "code",
   "execution_count": 29,
   "metadata": {},
   "outputs": [
    {
     "name": "stdout",
     "output_type": "stream",
     "text": [
      "each_stride= False\n",
      "idx: 0 0.035366058349609375\n",
      "idx: 1 0.06444048881530762\n",
      "idx: 2 0.24110698699951172\n",
      "idx: 3 0.0\n",
      "         8001 function calls in 0.232 seconds\n",
      "\n",
      "   Ordered by: cumulative time\n",
      "\n",
      "   ncalls  tottime  percall  cumtime  percall filename:lineno(function)\n",
      "     1000    0.003    0.000    0.232    0.000 utils.py:92(alignment_linear)\n",
      "     1000    0.027    0.000    0.228    0.000 utils.py:53(alignment)\n",
      "     1000    0.174    0.000    0.174    0.000 {built-in method torch.cov}\n",
      "     2000    0.012    0.000    0.012    0.000 {built-in method torch.sum}\n",
      "     1000    0.009    0.000    0.009    0.000 {built-in method torch.matmul}\n",
      "     1000    0.007    0.000    0.007    0.000 {built-in method torch.trace}\n",
      "     1000    0.001    0.000    0.001    0.000 module.py:1682(__getattr__)\n",
      "        1    0.000    0.000    0.000    0.000 {method 'disable' of '_lsprof.Profiler' objects}\n",
      "\n",
      "\n"
     ]
    }
   ],
   "source": [
    "print(\"each_stride=\", net.each_stride)\n",
    "out, profiler = measure_alignment(net, images, [0, 1, 2, 3], precomputed=True, method='alignment', num_checks=1000)\n",
    "profiler.print_stats(sort='cumulative')"
   ]
  },
  {
   "cell_type": "code",
   "execution_count": null,
   "metadata": {},
   "outputs": [],
   "source": []
  },
  {
   "cell_type": "code",
   "execution_count": null,
   "metadata": {},
   "outputs": [
    {
     "name": "stdout",
     "output_type": "stream",
     "text": [
      "442 µs ± 1.87 µs per loop (mean ± std. dev. of 7 runs, 1,000 loops each)\n",
      "443 µs ± 3.9 µs per loop (mean ± std. dev. of 7 runs, 1,000 loops each)\n",
      "True\n"
     ]
    }
   ],
   "source": [
    "activations = [images, *net.get_activations(x=images, precomputed=True)]\n",
    "layers = net.get_alignment_layers()\n",
    "metaprms = net.get_alignment_metaparameters()\n",
    "\n",
    "idx = 0\n",
    "x = alignment_slow(activations[idx], layers[idx].weight.data)\n",
    "y = alignment_fast(activations[idx], layers[idx].weight.data)\n",
    "\n",
    "%timeit _ = alignment_slow(activations[idx], layers[idx].weight.data)\n",
    "%timeit _ = alignment_fast(activations[idx], layers[idx].weight.data)\n",
    "\n",
    "print(torch.allclose(x, y))"
   ]
  }
 ],
 "metadata": {
  "kernelspec": {
   "display_name": "networkAlignmentAnalysis",
   "language": "python",
   "name": "python3"
  },
  "language_info": {
   "codemirror_mode": {
    "name": "ipython",
    "version": 3
   },
   "file_extension": ".py",
   "mimetype": "text/x-python",
   "name": "python",
   "nbconvert_exporter": "python",
   "pygments_lexer": "ipython3",
   "version": "3.9.18"
  }
 },
 "nbformat": 4,
 "nbformat_minor": 2
}
