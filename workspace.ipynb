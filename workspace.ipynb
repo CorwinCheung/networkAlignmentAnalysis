{
 "cells": [
  {
   "cell_type": "code",
   "execution_count": 2,
   "metadata": {},
   "outputs": [
    {
     "name": "stdout",
     "output_type": "stream",
     "text": [
      "using device:  cuda\n"
     ]
    }
   ],
   "source": [
    "%reload_ext autoreload\n",
    "%autoreload 2\n",
    "\n",
    "import time\n",
    "from tqdm import tqdm\n",
    "import numpy as np\n",
    "import scipy as sp\n",
    "import torch\n",
    "import torch.nn.functional as F\n",
    "from torch import nn\n",
    "from torchvision.transforms import v2 as transforms\n",
    "\n",
    "from matplotlib import pyplot as plt\n",
    "\n",
    "from networkAlignmentAnalysis.models.registry import get_model\n",
    "from networkAlignmentAnalysis.datasets import get_dataset\n",
    "from networkAlignmentAnalysis.experiments.registry import get_experiment\n",
    "from networkAlignmentAnalysis import utils\n",
    "from networkAlignmentAnalysis import files\n",
    "from networkAlignmentAnalysis import train\n",
    "\n",
    "DEVICE = 'cuda' if torch.cuda.is_available() else 'cpu'\n",
    "print('using device: ', DEVICE)"
   ]
  },
  {
   "cell_type": "code",
   "execution_count": 3,
   "metadata": {},
   "outputs": [],
   "source": [
    "# TODO\n",
    "# 1.1. include additional AlignmentModel methods stored in extra class in base model\n",
    "\n",
    "# 4. Rewrite existing analysis pipelines\n",
    "# 5. SLURM!!!!\n",
    "\n",
    "# Figure out why convolutional alignment measurement is slow...\n",
    "# still working on if it's possible to speed up measure_alignment for convolutional layers\n",
    "\n",
    "# Basic alignment_comparison Analyses (or maybe for alignment_stats):\n",
    "# - compare initial to final alignment...\n",
    "# - compare initial alignment to delta weight norm...\n",
    "# - observe alignment of delta weight\n",
    "# - compare alignment to outgoing delta weight norm!\n",
    "\n",
    "# Eigenfeature analyses:\n",
    "# done: - start by just looking at amplitude of activity on each eigenvector within each layer\n",
    "# - Determine contribution of each eigenfeature on performance with a eigenvector dropout experiment\n",
    "# - Measure beta_adversarial (figure out how adversarial examples map onto eigenvectors)\n",
    "\n",
    "# alignmentShaping.ipynb has an adversarial experiment worth looking at\n",
    "\n",
    "# Consider Valentin's idea about measuring an error threshold given signal and noise for a given level of alignment\n",
    "# e.g. plot a 2d heatmap comparing the noise amplitude and the average alignment\n",
    "# and then think about how to apply this to network design..."
   ]
  },
  {
   "cell_type": "code",
   "execution_count": 5,
   "metadata": {},
   "outputs": [
    {
     "name": "stderr",
     "output_type": "stream",
     "text": [
      "training epoch: 100%|██████████| 10/10 [00:27<00:00,  2.72s/it]\n",
      "100%|██████████| 10/10 [00:02<00:00,  4.62it/s]\n"
     ]
    }
   ],
   "source": [
    "model_name = 'CNN2P2'\n",
    "dataset_name = 'MNIST'\n",
    "\n",
    "net = get_model(model_name, build=True, dataset=dataset_name).to(DEVICE)\n",
    "dataset = get_dataset(dataset_name, build=True, transform_parameters=net, device=DEVICE)\n",
    "\n",
    "optimizer = torch.optim.Adam(net.parameters(), lr=1e-2)\n",
    "results = train.train([net], [optimizer], dataset, num_epochs=10, alignment=False)\n",
    "\n",
    "beta, eigenvalue, eigenvector = net.measure_eigenfeatures(dataset.test_loader, by_stride=True)"
   ]
  },
  {
   "cell_type": "code",
   "execution_count": 3,
   "metadata": {},
   "outputs": [],
   "source": [
    "# next steps:\n",
    "# - finish eigenvector dropout methods -- need to do some linear algebra and decide how to renormalize\n",
    "# - integrate into alignment_stats and observe results!!!\n",
    "# --\n",
    "# I'd like to make the conv handling code a bit smarter!\n",
    "# And also more readable...\n",
    "# Move some of the conv layer handling methods to internal AlignmentNetwork methods...\n",
    "# Then integrate those methods into the 3 eigenfeature methods for easy reading and clear code\n",
    "# --"
   ]
  },
  {
   "cell_type": "code",
   "execution_count": null,
   "metadata": {},
   "outputs": [],
   "source": [
    "# places that use 'unfold' or should use it\n",
    "# -- done(unless adding more support) -- AN.get_alignment_weights()\n",
    "# AN.forward_eigenvector.dropout() # --- doesn't use it but it should!!! --- \n",
    "# -- done -- AN.measure_eigenfeatures()\n",
    "# AN.measure_class_eigenfeatures()"
   ]
  },
  {
   "cell_type": "code",
   "execution_count": 14,
   "metadata": {},
   "outputs": [],
   "source": [
    "model_name = 'CNN2P2'\n",
    "dataset_name = 'MNIST'\n",
    "\n",
    "prms = dict(\n",
    "    channels=[32, 64],\n",
    "    kernel_size=[5, 5],\n",
    "    stride=[1, 1],\n",
    "    padding=[2, 2],\n",
    "    num_hidden=[3136, 128],\n",
    ")\n",
    "\n",
    "net = get_model(model_name, build=True, dataset=dataset_name, **prms).to(DEVICE)\n",
    "# dataset = get_dataset(dataset_name, build=True, transform_parameters=net, device=DEVICE)"
   ]
  },
  {
   "cell_type": "code",
   "execution_count": 8,
   "metadata": {},
   "outputs": [],
   "source": [
    "batch = next(iter(dataset.test_loader))\n",
    "images, label = dataset.unwrap_batch(batch)"
   ]
  },
  {
   "cell_type": "code",
   "execution_count": 18,
   "metadata": {},
   "outputs": [
    {
     "name": "stdout",
     "output_type": "stream",
     "text": [
      "torch.Size([1024, 1, 28, 28])\n",
      "torch.Size([1024, 32, 14, 14])\n",
      "torch.Size([1024, 3136])\n",
      "torch.Size([1024, 128])\n",
      "torch.Size([1024, 10])\n",
      "[torch.Size([1024, 1, 28, 28]), torch.Size([1024, 32, 14, 14]), torch.Size([1024, 3136]), torch.Size([1024, 128])]\n"
     ]
    }
   ],
   "source": [
    "store = []\n",
    "x = images.clone()\n",
    "for layer in net.layers:\n",
    "    print(x.shape)\n",
    "    store.append(x)\n",
    "    x = layer(x)\n",
    "print(x.shape)\n",
    "print([s.shape for s in store])"
   ]
  },
  {
   "cell_type": "code",
   "execution_count": 21,
   "metadata": {},
   "outputs": [],
   "source": [
    "layer = net.metaparameters[1]['layer_handle'](net.layers[1])\n",
    "x = store[1]\n",
    "\n",
    "subspace = None\n",
    "by_stride = True\n",
    "\n",
    "weight = layer.weight.data\n",
    "layer_prms = utils.get_unfold_params(layer)\n",
    "ux = torch.nn.functional.unfold(x, layer.kernel_size, **layer_prms)\n",
    "if subspace:\n",
    "    if by_stride:\n",
    "        ux = torch.matmul(subspace, torch.matmul(subspace.T, ux))\n",
    "    else:\n",
    "        # need to project out subspace in \"full\" convolutional subspace\n",
    "        # start by flattening unfolded input \n",
    "        ux = ux.transpose(1, 2).reshape(x.size(0), -1)\n",
    "        \n",
    "h_max, w_max = utils.get_maximum_strides(x.size(2), x.size(3), layer)\n",
    "weight = weight.view(weight.size(0), -1)\n",
    "out = torch.matmul(weight, ux).view(x.size(0), weight.size(0), h_max, w_max) + layer.bias.view(-1, 1, 1)\n"
   ]
  },
  {
   "cell_type": "code",
   "execution_count": 46,
   "metadata": {},
   "outputs": [
    {
     "name": "stdout",
     "output_type": "stream",
     "text": [
      "0 Conv2d(32, 64, kernel_size=(5, 5), stride=(1, 1), padding=(2, 2))\n",
      "1 ReLU()\n",
      "2 MaxPool2d(kernel_size=2, stride=2, padding=0, dilation=1, ceil_mode=False)\n",
      "3 Flatten(start_dim=1, end_dim=-1)\n"
     ]
    }
   ],
   "source": [
    "for idx, sublayer in enumerate(net.layers[1]):\n",
    "    print(idx, sublayer)"
   ]
  },
  {
   "cell_type": "code",
   "execution_count": null,
   "metadata": {},
   "outputs": [],
   "source": []
  },
  {
   "cell_type": "code",
   "execution_count": null,
   "metadata": {},
   "outputs": [],
   "source": []
  }
 ],
 "metadata": {
  "kernelspec": {
   "display_name": "networkAlignmentAnalysis",
   "language": "python",
   "name": "python3"
  },
  "language_info": {
   "codemirror_mode": {
    "name": "ipython",
    "version": 3
   },
   "file_extension": ".py",
   "mimetype": "text/x-python",
   "name": "python",
   "nbconvert_exporter": "python",
   "pygments_lexer": "ipython3",
   "version": "3.9.18"
  }
 },
 "nbformat": 4,
 "nbformat_minor": 2
}
