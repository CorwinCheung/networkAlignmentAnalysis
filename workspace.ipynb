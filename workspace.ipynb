{
 "cells": [
  {
   "cell_type": "code",
   "execution_count": 8,
   "metadata": {},
   "outputs": [
    {
     "name": "stdout",
     "output_type": "stream",
     "text": [
      "using device:  cuda\n"
     ]
    }
   ],
   "source": [
    "%reload_ext autoreload\n",
    "%autoreload 2\n",
    "\n",
    "import time\n",
    "from tqdm import tqdm\n",
    "import numpy as np\n",
    "import scipy as sp\n",
    "import torch\n",
    "import torch.nn.functional as F\n",
    "from torch import nn\n",
    "from torchvision import models, transforms\n",
    "\n",
    "from matplotlib import pyplot as plt\n",
    "\n",
    "from networkAlignmentAnalysis.models.models import MLP, CNN2P2\n",
    "from networkAlignmentAnalysis import utils\n",
    "from networkAlignmentAnalysis import datasets\n",
    "\n",
    "DEVICE = 'cuda' if torch.cuda.is_available() else 'cpu'\n",
    "print('using device: ', DEVICE)"
   ]
  },
  {
   "cell_type": "code",
   "execution_count": 9,
   "metadata": {},
   "outputs": [],
   "source": [
    "preprocess = transforms.Compose([\n",
    "            transforms.ToTensor(), # first, convert image to PyTorch tensor\n",
    "            transforms.Normalize((0.1307,), (0.3081,)), # normalize inputs\n",
    "            transforms.Lambda(torch.flatten), # convert to vectors\n",
    "        ])\n",
    "trainloader, testloader = datasets.downloadMNIST(batchSize=2048, preprocess=preprocess)"
   ]
  },
  {
   "cell_type": "code",
   "execution_count": 10,
   "metadata": {},
   "outputs": [
    {
     "name": "stdout",
     "output_type": "stream",
     "text": [
      "iteration:  0\n"
     ]
    },
    {
     "name": "stderr",
     "output_type": "stream",
     "text": [
      "30it [00:06,  4.91it/s]\n"
     ]
    },
    {
     "name": "stdout",
     "output_type": "stream",
     "text": [
      "Loss in epoch   0: 0.535, Accuracy: 85.69%.\n",
      "iteration:  1\n"
     ]
    },
    {
     "name": "stderr",
     "output_type": "stream",
     "text": [
      "30it [00:06,  4.93it/s]\n"
     ]
    },
    {
     "name": "stdout",
     "output_type": "stream",
     "text": [
      "Loss in epoch   1: 0.349, Accuracy: 89.47%.\n",
      "iteration:  2\n"
     ]
    },
    {
     "name": "stderr",
     "output_type": "stream",
     "text": [
      "30it [00:06,  4.99it/s]\n"
     ]
    },
    {
     "name": "stdout",
     "output_type": "stream",
     "text": [
      "Loss in epoch   2: 0.293, Accuracy: 90.79%.\n",
      "iteration:  3\n"
     ]
    },
    {
     "name": "stderr",
     "output_type": "stream",
     "text": [
      "30it [00:06,  4.98it/s]\n"
     ]
    },
    {
     "name": "stdout",
     "output_type": "stream",
     "text": [
      "Loss in epoch   3: 0.251, Accuracy: 92.60%.\n",
      "iteration:  4\n"
     ]
    },
    {
     "name": "stderr",
     "output_type": "stream",
     "text": [
      "30it [00:05,  5.01it/s]\n"
     ]
    },
    {
     "name": "stdout",
     "output_type": "stream",
     "text": [
      "Loss in epoch   4: 0.251, Accuracy: 92.11%.\n",
      "iteration:  5\n"
     ]
    },
    {
     "name": "stderr",
     "output_type": "stream",
     "text": [
      "30it [00:06,  4.98it/s]\n"
     ]
    },
    {
     "name": "stdout",
     "output_type": "stream",
     "text": [
      "Loss in epoch   5: 0.213, Accuracy: 93.91%.\n",
      "iteration:  6\n"
     ]
    },
    {
     "name": "stderr",
     "output_type": "stream",
     "text": [
      "30it [00:05,  5.02it/s]\n"
     ]
    },
    {
     "name": "stdout",
     "output_type": "stream",
     "text": [
      "Loss in epoch   6: 0.196, Accuracy: 94.24%.\n",
      "iteration:  7\n"
     ]
    },
    {
     "name": "stderr",
     "output_type": "stream",
     "text": [
      "30it [00:05,  5.03it/s]\n"
     ]
    },
    {
     "name": "stdout",
     "output_type": "stream",
     "text": [
      "Loss in epoch   7: 0.193, Accuracy: 94.08%.\n",
      "iteration:  8\n"
     ]
    },
    {
     "name": "stderr",
     "output_type": "stream",
     "text": [
      "30it [00:05,  5.02it/s]\n"
     ]
    },
    {
     "name": "stdout",
     "output_type": "stream",
     "text": [
      "Loss in epoch   8: 0.162, Accuracy: 94.90%.\n",
      "iteration:  9\n"
     ]
    },
    {
     "name": "stderr",
     "output_type": "stream",
     "text": [
      "30it [00:05,  5.01it/s]\n"
     ]
    },
    {
     "name": "stdout",
     "output_type": "stream",
     "text": [
      "Loss in epoch   9: 0.133, Accuracy: 96.22%.\n",
      "iteration:  10\n"
     ]
    },
    {
     "name": "stderr",
     "output_type": "stream",
     "text": [
      "30it [00:05,  5.02it/s]\n"
     ]
    },
    {
     "name": "stdout",
     "output_type": "stream",
     "text": [
      "Loss in epoch  10: 0.207, Accuracy: 93.91%.\n",
      "iteration:  11\n"
     ]
    },
    {
     "name": "stderr",
     "output_type": "stream",
     "text": [
      "30it [00:05,  5.01it/s]\n"
     ]
    },
    {
     "name": "stdout",
     "output_type": "stream",
     "text": [
      "Loss in epoch  11: 0.178, Accuracy: 94.90%.\n",
      "iteration:  12\n"
     ]
    },
    {
     "name": "stderr",
     "output_type": "stream",
     "text": [
      "30it [00:05,  5.02it/s]\n"
     ]
    },
    {
     "name": "stdout",
     "output_type": "stream",
     "text": [
      "Loss in epoch  12: 0.200, Accuracy: 93.59%.\n",
      "iteration:  13\n"
     ]
    },
    {
     "name": "stderr",
     "output_type": "stream",
     "text": [
      "30it [00:05,  5.02it/s]\n"
     ]
    },
    {
     "name": "stdout",
     "output_type": "stream",
     "text": [
      "Loss in epoch  13: 0.176, Accuracy: 95.23%.\n",
      "iteration:  14\n"
     ]
    },
    {
     "name": "stderr",
     "output_type": "stream",
     "text": [
      "30it [00:06,  4.99it/s]\n"
     ]
    },
    {
     "name": "stdout",
     "output_type": "stream",
     "text": [
      "Loss in epoch  14: 0.180, Accuracy: 93.75%.\n",
      "iteration:  15\n"
     ]
    },
    {
     "name": "stderr",
     "output_type": "stream",
     "text": [
      "30it [00:05,  5.00it/s]\n"
     ]
    },
    {
     "name": "stdout",
     "output_type": "stream",
     "text": [
      "Loss in epoch  15: 0.155, Accuracy: 95.07%.\n",
      "iteration:  16\n"
     ]
    },
    {
     "name": "stderr",
     "output_type": "stream",
     "text": [
      "30it [00:05,  5.02it/s]\n"
     ]
    },
    {
     "name": "stdout",
     "output_type": "stream",
     "text": [
      "Loss in epoch  16: 0.155, Accuracy: 95.56%.\n",
      "iteration:  17\n"
     ]
    },
    {
     "name": "stderr",
     "output_type": "stream",
     "text": [
      "30it [00:05,  5.05it/s]\n"
     ]
    },
    {
     "name": "stdout",
     "output_type": "stream",
     "text": [
      "Loss in epoch  17: 0.139, Accuracy: 95.23%.\n",
      "iteration:  18\n"
     ]
    },
    {
     "name": "stderr",
     "output_type": "stream",
     "text": [
      "30it [00:05,  5.07it/s]\n"
     ]
    },
    {
     "name": "stdout",
     "output_type": "stream",
     "text": [
      "Loss in epoch  18: 0.130, Accuracy: 94.41%.\n",
      "iteration:  19\n"
     ]
    },
    {
     "name": "stderr",
     "output_type": "stream",
     "text": [
      "30it [00:05,  5.07it/s]"
     ]
    },
    {
     "name": "stdout",
     "output_type": "stream",
     "text": [
      "Loss in epoch  19: 0.150, Accuracy: 94.74%.\n"
     ]
    },
    {
     "name": "stderr",
     "output_type": "stream",
     "text": [
      "\n"
     ]
    }
   ],
   "source": [
    "net = MLP()\n",
    "# net = CNN2P2()\n",
    "net.to(DEVICE)\n",
    "    \n",
    "# Prepare Training Functions \n",
    "loss_function = nn.CrossEntropyLoss() # Note: this automatically applies softmax...\n",
    "# optimizer = torch.optim.SGD(net.parameters(), lr=1e-1)\n",
    "# optimizer = torch.optim.Adadelta(net.parameters())\n",
    "optimizer = torch.optim.Adam(net.parameters(), lr=5e-3)\n",
    "\n",
    "# Preallocate summary variables  \n",
    "iterations = 20\n",
    "numTrainingSteps = len(trainloader)*iterations\n",
    "trackLoss = torch.zeros(numTrainingSteps)\n",
    "trackAccuracy = torch.zeros(numTrainingSteps)\n",
    "alignFull = []\n",
    "deltaWeights = []\n",
    "\n",
    "init_weights = net.get_alignment_weights()\n",
    "\n",
    "# Train Network & Measure Integration\n",
    "t = time.time()\n",
    "for epoch in range(0, iterations): \n",
    "    print('iteration: ', epoch)\n",
    "    \n",
    "    # Set current loss value\n",
    "    currentLoss = 0.0\n",
    "    numBatches = 0\n",
    "    currentCorrect = 0\n",
    "    currentAttempted = 0\n",
    "\n",
    "    for idx,batch in tqdm(enumerate(trainloader)):\n",
    "        cidx = epoch*len(trainloader) + idx\n",
    "        \n",
    "        images, label = batch\n",
    "        images = images.to(DEVICE)\n",
    "        label = label.to(DEVICE)\n",
    "\n",
    "        # Zero the gradients\n",
    "        optimizer.zero_grad()\n",
    "\n",
    "        # Perform forward pass\n",
    "        outputs = net(images, store_hidden=True)\n",
    "\n",
    "        # Perform backward pass & optimization\n",
    "        loss = loss_function(outputs, label)\n",
    "        loss.backward()\n",
    "        optimizer.step()\n",
    "\n",
    "        # Track Loss and Accuracy\n",
    "        trackLoss[cidx] = loss.item()\n",
    "        trackAccuracy[cidx] = 100*torch.sum(torch.argmax(outputs,axis=1)==label)/images.shape[0]\n",
    "\n",
    "        # Measure Integration\n",
    "        alignFull.append(net.measure_alignment(images, precomputed=True, method='alignment'))\n",
    "        \n",
    "        # Measure Change in Weights\n",
    "        deltaWeights.append(net.compare_weights(init_weights))\n",
    "\n",
    "    # Print statistics for each epoch\n",
    "    print('Loss in epoch %3d: %.3f, Accuracy: %.2f%%.' % (epoch, loss.item(), 100*torch.sum(torch.argmax(outputs,axis=1)==label)/images.shape[0]))\n"
   ]
  },
  {
   "cell_type": "code",
   "execution_count": 11,
   "metadata": {},
   "outputs": [
    {
     "data": {
      "image/png": "[encoded data removed]",
      "text/plain": [
       "<Figure size 1200x300 with 3 Axes>"
      ]
     },
     "metadata": {},
     "output_type": "display_data"
    }
   ],
   "source": [
    "# This code plots absolute values of loss, accuracy, similarity, and integration\n",
    "# -- useful for knowing what the true (unnormalized) values are --\n",
    "numEpoch = trackLoss.shape[0]\n",
    "alignMean = utils.avg_from_full(alignFull)\n",
    "\n",
    "# Note: similarity and integration are only current -- I changed it to simMean,intMean,simStd,intStd for future reference and for plotting error bars!\n",
    "fig,ax = plt.subplots(1,3,figsize=(12,3))\n",
    "ax[0].plot(trackLoss)\n",
    "ax[0].set_xlabel('Epoch')\n",
    "ax[0].set_ylabel('Loss')\n",
    "ax[1].plot(trackAccuracy)\n",
    "ax[1].set_xlabel('Epoch')\n",
    "ax[1].set_ylabel('Accuracy (%)')\n",
    "for i in range(alignMean.shape[0]):\n",
    "    ax[2].plot(alignMean[i,:]*100,label=f'Layer{i}')\n",
    "ax[2].set_xlabel('Epoch')\n",
    "ax[2].set_ylabel('Alignment (%VarExpl)')\n",
    "ax[2].legend(fontsize=8, loc='upper right')\n",
    "\n",
    "plt.tight_layout()"
   ]
  },
  {
   "cell_type": "code",
   "execution_count": 8,
   "metadata": {},
   "outputs": [],
   "source": [
    "# TODO\n",
    "# 1. Write more models (rewrite convolutional and AlexNet into AlignmentModels)\n",
    "# 1.1. include additional AlignmentModel methods stored in extra class in base model\n",
    "# 2. Make datasets a class\n",
    "# 3. Make training a nice method\n",
    "# 4. Rewrite existing analysis pipelines"
   ]
  },
  {
   "cell_type": "code",
   "execution_count": null,
   "metadata": {},
   "outputs": [],
   "source": []
  },
  {
   "cell_type": "code",
   "execution_count": null,
   "metadata": {},
   "outputs": [],
   "source": []
  }
 ],
 "metadata": {
  "kernelspec": {
   "display_name": "networkAlignmentAnalysis",
   "language": "python",
   "name": "python3"
  },
  "language_info": {
   "codemirror_mode": {
    "name": "ipython",
    "version": 3
   },
   "file_extension": ".py",
   "mimetype": "text/x-python",
   "name": "python",
   "nbconvert_exporter": "python",
   "pygments_lexer": "ipython3",
   "version": "3.9.18"
  }
 },
 "nbformat": 4,
 "nbformat_minor": 2
}
