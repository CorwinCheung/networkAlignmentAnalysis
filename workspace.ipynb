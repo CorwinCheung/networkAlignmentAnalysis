{
 "cells": [
  {
   "cell_type": "code",
   "execution_count": 1,
   "metadata": {},
   "outputs": [
    {
     "name": "stdout",
     "output_type": "stream",
     "text": [
      "using device:  cuda\n"
     ]
    }
   ],
   "source": [
    "%reload_ext autoreload\n",
    "%autoreload 2\n",
    "\n",
    "import time\n",
    "from tqdm import tqdm\n",
    "import numpy as np\n",
    "import scipy as sp\n",
    "import torch\n",
    "import torch.nn.functional as F\n",
    "from torch import nn\n",
    "from torchvision.transforms import v2 as transforms\n",
    "\n",
    "from matplotlib import pyplot as plt\n",
    "\n",
    "from networkAlignmentAnalysis.models.registry import get_model\n",
    "from networkAlignmentAnalysis.datasets import get_dataset\n",
    "from networkAlignmentAnalysis.experiments.registry import get_experiment\n",
    "from networkAlignmentAnalysis import utils\n",
    "from networkAlignmentAnalysis import files\n",
    "from networkAlignmentAnalysis import train\n",
    "\n",
    "DEVICE = 'cuda' if torch.cuda.is_available() else 'cpu'\n",
    "print('using device: ', DEVICE)"
   ]
  },
  {
   "cell_type": "code",
   "execution_count": 3,
   "metadata": {},
   "outputs": [],
   "source": [
    "# TODO\n",
    "# 1.1. include additional AlignmentModel methods stored in extra class in base model\n",
    "\n",
    "# 4. Rewrite existing analysis pipelines\n",
    "# 5. SLURM!!!!\n",
    "\n",
    "# i don't like how by_stride is buried in the layers. Rewrite \n",
    "\n",
    "# Figure out why convolutional alignment measurement is slow...\n",
    "# still working on if it's possible to speed up measure_alignment for convolutional layers\n",
    "\n",
    "# Basic alignment_comparison Analyses (or maybe for alignment_stats):\n",
    "# - compare initial to final alignment...\n",
    "# - compare initial alignment to delta weight norm...\n",
    "# - observe alignment of delta weight\n",
    "# - compare alignment to outgoing delta weight norm!\n",
    "\n",
    "# Eigenfeature analyses:\n",
    "# done: - start by just looking at amplitude of activity on each eigenvector within each layer\n",
    "# - Determine contribution of each eigenfeature on performance with a eigenvector dropout experiment\n",
    "# - Measure beta_adversarial (figure out how adversarial examples map onto eigenvectors)\n",
    "\n",
    "# alignmentShaping.ipynb has an adversarial experiment worth looking at\n",
    "\n",
    "# Consider Valentin's idea about measuring an error threshold given signal and noise for a given level of alignment\n",
    "# e.g. plot a 2d heatmap comparing the noise amplitude and the average alignment\n",
    "# and then think about how to apply this to network design..."
   ]
  },
  {
   "cell_type": "code",
   "execution_count": 2,
   "metadata": {},
   "outputs": [
    {
     "name": "stderr",
     "output_type": "stream",
     "text": [
      "training epoch: 100%|██████████| 100/100 [04:20<00:00,  2.61s/it]\n",
      "100%|██████████| 10/10 [00:02<00:00,  4.49it/s]\n",
      "4it [00:50, 12.51s/it]\n",
      "100%|██████████| 10/10 [00:35<00:00,  3.58s/it]\n"
     ]
    },
    {
     "data": {
      "image/png": "[encoded data removed]",
      "text/plain": [
       "<Figure size 640x480 with 1 Axes>"
      ]
     },
     "metadata": {},
     "output_type": "display_data"
    }
   ],
   "source": [
    "model_name = 'CNN2P2'\n",
    "dataset_name = 'MNIST'\n",
    "by_stride = True\n",
    "\n",
    "net = get_model(model_name, build=True, dataset=dataset_name).to(DEVICE)\n",
    "dataset = get_dataset(dataset_name, build=True, transform_parameters=net, device=DEVICE)\n",
    "\n",
    "optimizer = torch.optim.Adam(net.parameters(), lr=1e-2)\n",
    "results = train.train([net], [optimizer], dataset, num_epochs=100, alignment=False)\n",
    "\n",
    "beta, eigenvalue, eigenvector = net.measure_eigenfeatures(dataset.test_loader, by_stride=by_stride)\n",
    "dropout_results = train.eigenvector_dropout([net], dataset, [eigenvalue], [eigenvector], train_set=False, by_stride=by_stride)\n",
    "\n",
    "plt.close('all')\n",
    "plt.plot(results['accuracy'])\n",
    "plt.show()"
   ]
  },
  {
   "cell_type": "code",
   "execution_count": 3,
   "metadata": {},
   "outputs": [
    {
     "data": {
      "text/plain": [
       "dict_keys(['progdrop_loss_high', 'progdrop_loss_low', 'progdrop_loss_rand', 'progdrop_acc_high', 'progdrop_acc_low', 'progdrop_acc_rand', 'dropout_fraction', 'by_layer', 'idx_dropout_layers'])"
      ]
     },
     "execution_count": 3,
     "metadata": {},
     "output_type": "execute_result"
    }
   ],
   "source": [
    "dropout_results.keys()"
   ]
  },
  {
   "cell_type": "code",
   "execution_count": 4,
   "metadata": {},
   "outputs": [],
   "source": [
    "import matplotlib as mpl\n",
    "\n",
    "def plot_dropout_results(dropout_results, dropout_parameters, dropout_type='nodes'):\n",
    "    num_types = 1\n",
    "    labels = [f\"'net' - dropout {dropout_type}\"]\n",
    "    cmap = mpl.colormaps['Set1']\n",
    "    alpha = 0.3\n",
    "    msize = 10\n",
    "    figdim = 3\n",
    "\n",
    "    num_layers = dropout_results['progdrop_loss_high'].size(2)\n",
    "    names = ['From high', 'From low', 'Random']\n",
    "    num_exp = len(names)\n",
    "    dropout_fraction = dropout_results['dropout_fraction']\n",
    "    by_layer = dropout_results['by_layer']\n",
    "    extra_name = 'by_layer' if by_layer else 'all_layers'\n",
    "    extra_name += dropout_type\n",
    "\n",
    "    # Get statistics across each network type for progressive dropout experiment\n",
    "    print(\"measuring statistics on dropout analysis...\")\n",
    "    loss_mean_high, loss_se_high = utils.compute_stats_by_type(dropout_results['progdrop_loss_high'], \n",
    "                                                            num_types=num_types, dim=0, method='se')\n",
    "    loss_mean_low, loss_se_low = utils.compute_stats_by_type(dropout_results['progdrop_loss_low'], \n",
    "                                                            num_types=num_types, dim=0, method='se')\n",
    "    loss_mean_rand, loss_se_rand = utils.compute_stats_by_type(dropout_results['progdrop_loss_rand'], \n",
    "                                                            num_types=num_types, dim=0, method='se')\n",
    "\n",
    "    acc_mean_high, acc_se_high = utils.compute_stats_by_type(dropout_results['progdrop_acc_high'], \n",
    "                                                            num_types=num_types, dim=0, method='se')\n",
    "    acc_mean_low, acc_se_low = utils.compute_stats_by_type(dropout_results['progdrop_acc_low'], \n",
    "                                                            num_types=num_types, dim=0, method='se')\n",
    "    acc_mean_rand, acc_se_rand = utils.compute_stats_by_type(dropout_results['progdrop_acc_rand'], \n",
    "                                                            num_types=num_types, dim=0, method='se')\n",
    "\n",
    "    # Contract into lists for looping through to plot\n",
    "    loss_mean = [loss_mean_high, loss_mean_low, loss_mean_rand]\n",
    "    loss_se = [loss_se_high, loss_se_low, loss_se_rand]\n",
    "    acc_mean = [acc_mean_high, acc_mean_low, acc_mean_rand]\n",
    "    acc_se = [acc_se_high, acc_se_low, acc_se_rand]\n",
    "\n",
    "\n",
    "    print(\"plotting dropout results...\")\n",
    "    # Plot Loss for progressive dropout experiment\n",
    "    fig, ax = plt.subplots(num_layers, num_types, figsize=(num_types*figdim, num_layers*figdim), sharex=True, sharey=True, layout='constrained')\n",
    "    ax = np.reshape(ax, (num_layers, num_types))\n",
    "\n",
    "    for idx, label in enumerate(labels):\n",
    "        for layer in range(num_layers):\n",
    "            for iexp, name in enumerate(names):\n",
    "                cmn = loss_mean[iexp][idx, :, layer]\n",
    "                cse = loss_se[iexp][idx, :, layer]\n",
    "                ax[layer, idx].plot(dropout_fraction, cmn, color=cmap(iexp), marker='.', markersize=msize, label=name)\n",
    "                ax[layer, idx].fill_between(dropout_fraction, cmn+cse, cmn-cse, color=(cmap(iexp), alpha))\n",
    "        \n",
    "            if layer==0:\n",
    "                ax[layer, idx].set_title(label)\n",
    "\n",
    "            if layer==num_layers-1:\n",
    "                ax[layer, idx].set_xlabel('Dropout Fraction')\n",
    "                ax[layer, idx].set_xlim(0, 1)\n",
    "            \n",
    "            if idx==0:\n",
    "                ax[layer, idx].set_ylabel('Loss w/ Dropout')\n",
    "\n",
    "            if iexp==num_exp-1:\n",
    "                ax[layer, idx].legend(loc='best')\n",
    "    \n",
    "    # self.plot_ready('prog_dropout_'+extra_name+'_loss')\n",
    "\n",
    "\n",
    "    fig, ax = plt.subplots(num_layers, num_types, figsize=(num_types*figdim, num_layers*figdim), sharex=True, sharey=True, layout='constrained')\n",
    "    ax = np.reshape(ax, (num_layers, num_types))\n",
    "\n",
    "    for idx, label in enumerate(labels):\n",
    "        for layer in range(num_layers):\n",
    "            for iexp, name in enumerate(names):\n",
    "                cmn = acc_mean[iexp][idx, :, layer]\n",
    "                cse = acc_se[iexp][idx, :, layer]\n",
    "                ax[layer, idx].plot(dropout_fraction, cmn, color=cmap(iexp), marker='.', markersize=msize, label=name)\n",
    "                ax[layer, idx].fill_between(dropout_fraction, cmn+cse, cmn-cse, color=(cmap(iexp), alpha))\n",
    "\n",
    "            ax[layer, idx].set_ylim(0, 100)\n",
    "\n",
    "            if layer==0:\n",
    "                ax[layer, idx].set_title(label)\n",
    "\n",
    "            if layer==num_layers-1:\n",
    "                ax[layer, idx].set_xlabel('Dropout Fraction')\n",
    "                ax[layer, idx].set_xlim(0, 1)\n",
    "            \n",
    "            if idx==0:\n",
    "                ax[layer, idx].set_ylabel('Accuracy w/ Dropout')\n",
    "\n",
    "            if iexp==num_exp-1:\n",
    "                ax[layer, idx].legend(loc='best')\n",
    "    \n",
    "    # self.plot_ready('prog_dropout_'+extra_name+'_accuracy')\n",
    "                \n",
    "    plt.show()"
   ]
  },
  {
   "cell_type": "code",
   "execution_count": null,
   "metadata": {},
   "outputs": [],
   "source": [
    "plot_dropout_results()"
   ]
  },
  {
   "cell_type": "code",
   "execution_count": 3,
   "metadata": {},
   "outputs": [],
   "source": [
    "# next steps:\n",
    "# - finish eigenvector dropout methods -- need to do some linear algebra and decide how to renormalize\n",
    "# - integrate into alignment_stats and observe results!!!\n",
    "# --\n",
    "# I'd like to make the conv handling code a bit smarter!\n",
    "# And also more readable...\n",
    "# Move some of the conv layer handling methods to internal AlignmentNetwork methods...\n",
    "# Then integrate those methods into the 3 eigenfeature methods for easy reading and clear code\n",
    "# --"
   ]
  },
  {
   "cell_type": "code",
   "execution_count": null,
   "metadata": {},
   "outputs": [],
   "source": [
    "# places that use 'unfold' or should use it\n",
    "# -- done -- AN.get_alignment_weights()\n",
    "# -- done --AN.forward_eigenvector.dropout() # --- doesn't use it but it should!!! --- \n",
    "# -- done -- AN.measure_eigenfeatures()\n",
    "# AN.measure_class_eigenfeatures()"
   ]
  },
  {
   "cell_type": "code",
   "execution_count": null,
   "metadata": {},
   "outputs": [],
   "source": []
  },
  {
   "cell_type": "code",
   "execution_count": null,
   "metadata": {},
   "outputs": [],
   "source": []
  }
 ],
 "metadata": {
  "kernelspec": {
   "display_name": "networkAlignmentAnalysis",
   "language": "python",
   "name": "python3"
  },
  "language_info": {
   "codemirror_mode": {
    "name": "ipython",
    "version": 3
   },
   "file_extension": ".py",
   "mimetype": "text/x-python",
   "name": "python",
   "nbconvert_exporter": "python",
   "pygments_lexer": "ipython3",
   "version": "3.9.18"
  }
 },
 "nbformat": 4,
 "nbformat_minor": 2
}
