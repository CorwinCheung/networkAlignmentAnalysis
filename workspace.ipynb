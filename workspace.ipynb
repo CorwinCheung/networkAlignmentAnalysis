{
 "cells": [
  {
   "cell_type": "code",
   "execution_count": 35,
   "metadata": {},
   "outputs": [
    {
     "name": "stdout",
     "output_type": "stream",
     "text": [
      "using device:  cuda\n"
     ]
    }
   ],
   "source": [
    "%reload_ext autoreload\n",
    "%autoreload 2\n",
    "\n",
    "import time\n",
    "from tqdm import tqdm\n",
    "import numpy as np\n",
    "import scipy as sp\n",
    "import torch\n",
    "import torch.nn.functional as F\n",
    "from torch import nn\n",
    "from torchvision.transforms import v2 as transforms\n",
    "\n",
    "from matplotlib import pyplot as plt\n",
    "\n",
    "from networkAlignmentAnalysis.models.registry import get_model\n",
    "from networkAlignmentAnalysis.datasets import get_dataset\n",
    "from networkAlignmentAnalysis.experiments.registry import get_experiment\n",
    "from networkAlignmentAnalysis import utils\n",
    "from networkAlignmentAnalysis import files\n",
    "from networkAlignmentAnalysis import train\n",
    "\n",
    "DEVICE = 'cuda' if torch.cuda.is_available() else 'cpu'\n",
    "print('using device: ', DEVICE)"
   ]
  },
  {
   "cell_type": "code",
   "execution_count": 3,
   "metadata": {},
   "outputs": [],
   "source": [
    "# TODO\n",
    "# 1.1. include additional AlignmentModel methods stored in extra class in base model\n",
    "\n",
    "# 4. Rewrite existing analysis pipelines\n",
    "# 5. SLURM!!!!\n",
    "\n",
    "# i don't like how by_stride is buried in the layers. Rewrite \n",
    "\n",
    "# Figure out why convolutional alignment measurement is slow...\n",
    "# still working on if it's possible to speed up measure_alignment for convolutional layers\n",
    "\n",
    "# Basic alignment_comparison Analyses (or maybe for alignment_stats):\n",
    "# - compare initial to final alignment...\n",
    "# - compare initial alignment to delta weight norm...\n",
    "# - observe alignment of delta weight\n",
    "# - compare alignment to outgoing delta weight norm!\n",
    "\n",
    "# Eigenfeature analyses:\n",
    "# done: - start by just looking at amplitude of activity on each eigenvector within each layer\n",
    "# - Determine contribution of each eigenfeature on performance with a eigenvector dropout experiment\n",
    "# - Measure beta_adversarial (figure out how adversarial examples map onto eigenvectors)\n",
    "\n",
    "# alignmentShaping.ipynb has an adversarial experiment worth looking at\n",
    "\n",
    "# Consider Valentin's idea about measuring an error threshold given signal and noise for a given level of alignment\n",
    "# e.g. plot a 2d heatmap comparing the noise amplitude and the average alignment\n",
    "# and then think about how to apply this to network design..."
   ]
  },
  {
   "cell_type": "code",
   "execution_count": 36,
   "metadata": {},
   "outputs": [],
   "source": [
    "model_name = 'CNN2P2'\n",
    "dataset_name = 'MNIST'\n",
    "by_stride = True\n",
    "\n",
    "net = get_model(model_name, build=True, dataset=dataset_name).to(DEVICE)\n",
    "dataset = get_dataset(dataset_name, build=True, transform_parameters=net, device=DEVICE)\n",
    "\n",
    "# optimizer = torch.optim.Adam(net.parameters(), lr=1e-2)\n",
    "# results = train.train([net], [optimizer], dataset, num_epochs=100, alignment=False)\n",
    "\n",
    "# beta, eigenvalue, eigenvector = net.measure_eigenfeatures(dataset.test_loader, by_stride=by_stride)\n",
    "# dropout_results = train.eigenvector_dropout([net], dataset, [eigenvalue], [eigenvector], train_set=False, by_stride=by_stride, by_layer=True)\n",
    "\n",
    "# plt.close('all')\n",
    "# plt.plot(results['accuracy'])\n",
    "# plt.show()"
   ]
  },
  {
   "cell_type": "code",
   "execution_count": null,
   "metadata": {},
   "outputs": [],
   "source": [
    "# places that use 'unfold' or should use it\n",
    "# -- done -- AN.get_alignment_weights()\n",
    "# -- done --AN.forward_eigenvector.dropout() # --- doesn't use it but it should!!! --- \n",
    "# -- done -- AN.measure_eigenfeatures()\n",
    "# AN.measure_class_eigenfeatures()"
   ]
  },
  {
   "cell_type": "code",
   "execution_count": 54,
   "metadata": {},
   "outputs": [
    {
     "name": "stdout",
     "output_type": "stream",
     "text": [
      "1.99 s ± 258 ms per loop (mean ± std. dev. of 7 runs, 1 loop each)\n",
      "1.55 s ± 7.45 ms per loop (mean ± std. dev. of 7 runs, 1 loop each)\n",
      "True\n"
     ]
    }
   ],
   "source": [
    "# ------------------ alignment functions ----------------------\n",
    "def alignment(input, weight, method='alignment'):\n",
    "    \"\"\"\n",
    "    measure alignment (proportion variance explained) between **input** and **weight**\n",
    "    \n",
    "    computes the rayleigh quotient between each weight vector in **weight** and the **input** fed \n",
    "    into **weight**. Typically, **input** is the output in Layer L-1 and **weight** is from Layer L\n",
    "\n",
    "    the output is normalized by the total variance in output of layer L-1 to measure the proportion \n",
    "    of variance of in **input** is explained by a projection onto node's weights in **weight**\n",
    "\n",
    "    args\n",
    "    ----\n",
    "        input: (batch, neurons) torch tensor \n",
    "            - represents input activity being fed in to network weight layer\n",
    "        weight: (num_out, num_in) torch tensor \n",
    "            - represents weights multiplied by input layer\n",
    "        method: string, default='alignment'\n",
    "            - which method to use to measure structure in **input** \n",
    "            - if 'alignment', uses covariance matrix of **input**\n",
    "            - if 'similarity', uses correlation matrix of **input**\n",
    "\n",
    "    returns\n",
    "    -------\n",
    "        alignment: (num_out, ) torch tensor\n",
    "            - proportion of variance explained by projection of **input** onto each **weight** vector\n",
    "    \"\"\"\n",
    "    assert method=='alignment' or method=='similarity', \"method must be set to either 'alignment' or 'similarity' (or None, default is alignment)\"\n",
    "    if method=='alignment':\n",
    "        cc = torch.cov(input.T)\n",
    "    elif method=='similarity':\n",
    "        cc = utils.smartcorr(input.T)\n",
    "    else: \n",
    "        raise ValueError(f\"did not recognize method ({method}), must be 'alignment' or 'similarity'\")\n",
    "    # Compute rayleigh quotient\n",
    "    rq = torch.sum(torch.matmul(weight, cc) * weight, axis=1) / torch.sum(weight * weight, axis=1)\n",
    "    # proportion of variance explained by a projection of the input onto each weight\n",
    "    prq = rq/torch.trace(cc)\n",
    "    return prq\n",
    "\n",
    "# B, D, S, C = 1024, 25, 784, 32\n",
    "B, D, S, C = 1024, 800, 196, 64\n",
    "input = torch.normal(0, 1, (B, D, S))\n",
    "weight = torch.normal(0, 1, (C, D))\n",
    "\n",
    "def get_align_usual(input, weight):\n",
    "    var_stride = torch.mean(torch.var(input, dim=1), dim=0)\n",
    "    align_stride = torch.stack([alignment(input[:, :, i], weight) for i in range(S)], dim=1)\n",
    "    return utils.weighted_average(align_stride, var_stride.view(1, -1), 1, ignore_nan=True)\n",
    "    \n",
    "def get_align_new(input, weight):\n",
    "    var_stride = torch.mean(torch.var(input, dim=1), dim=0)\n",
    "    cc = utils.batch_cov(input.transpose(0, 2))\n",
    "    rq = torch.sum(torch.matmul(weight, cc) * weight, axis=2) / torch.sum(weight * weight, axis=1)\n",
    "    prq = rq / torch.diagonal(cc, dim1=1, dim2=2).sum(1, keepdim=True)\n",
    "    return utils.weighted_average(prq, var_stride.view(-1, 1), 0, ignore_nan=True)\n",
    "\n",
    "au = get_align_usual(input, weight)\n",
    "an = get_align_new(input, weight)\n",
    "\n",
    "%timeit _ = get_align_usual(input, weight)\n",
    "%timeit _ = get_align_new(input, weight)\n",
    "\n",
    "print(torch.allclose(au, an))\n",
    "\n",
    "\n",
    "# convert batch_cov to allow for batch_corr too (and make it \"smart\")\n",
    "# integrate batched alignment into pipeline\n"
   ]
  },
  {
   "cell_type": "code",
   "execution_count": 47,
   "metadata": {},
   "outputs": [
    {
     "name": "stdout",
     "output_type": "stream",
     "text": [
      "torch.Size([1024, 25, 784])\n",
      "torch.Size([1024, 800, 196])\n",
      "torch.Size([1024, 3136])\n",
      "torch.Size([1024, 128])\n"
     ]
    }
   ],
   "source": [
    "images, labels = dataset.unwrap_batch(next(iter(dataset.test_loader)))\n",
    "\n",
    "inputs = net.get_layer_inputs(images, precomputed=False)\n",
    "processed = net._preprocess_inputs(inputs)\n",
    "\n",
    "for i in processed:\n",
    "    print(i.shape)"
   ]
  },
  {
   "cell_type": "code",
   "execution_count": 50,
   "metadata": {},
   "outputs": [
    {
     "data": {
      "text/plain": [
       "torch.Size([64, 32, 5, 5])"
      ]
     },
     "execution_count": 50,
     "metadata": {},
     "output_type": "execute_result"
    }
   ],
   "source": [
    "net.get_alignment_layers()[1].weight.data.shape"
   ]
  },
  {
   "cell_type": "code",
   "execution_count": null,
   "metadata": {},
   "outputs": [],
   "source": []
  },
  {
   "cell_type": "code",
   "execution_count": 73,
   "metadata": {},
   "outputs": [
    {
     "name": "stdout",
     "output_type": "stream",
     "text": [
      "torch.Size([1024, 7, 7])\n"
     ]
    }
   ],
   "source": [
    "def batch_cov(input, centered=True, corr=False):\n",
    "    \"\"\"\n",
    "    Performs batched covariance on input data of shape (batch, dim, samples) or (dim, samples)\n",
    "\n",
    "    Where the resulting batch covariance matrix has shape (batch, dim, dim) or (dim, dim)\n",
    "    and bcov[i] = torch.cov(input[i]) if input.ndim==3\n",
    "\n",
    "    if centered=True (default=True) will subtract the means first\n",
    "    if corr=True (default=False), will divide by standard deviations to get correlation matrices\n",
    "          note that it's not really correlation if centered=False! \n",
    "    \"\"\"\n",
    "\n",
    "\n",
    "def smartcorr(input):\n",
    "    \"\"\"\n",
    "    Performs torch corrcoef on the input data but sets each pair-wise correlation coefficent\n",
    "    to 0 where the activity has no variance (var=0) for a particular dimension (replaces nans with zeros)sss\n",
    "    \"\"\"\n",
    "    idx_zeros = torch.var(input, dim=1)==0\n",
    "    cc = torch.corrcoef(input)\n",
    "    cc[idx_zeros,:] = 0\n",
    "    cc[:,idx_zeros] = 0\n",
    "    return cc\n",
    "\n",
    "\n",
    "B, D, S = 1024, 7, 1000\n",
    "input = torch.normal(0, 1, (B, D, S))\n",
    "input[0, 0, :] = 0\n",
    "input[0, 3, :] = 0\n",
    "centered=True\n",
    "corr=True\n",
    "\n",
    "assert (input.ndim == 2) or (input.ndim == 3), \"input must be a 2D or 3D tensor\"\n",
    "# check if batch dimension was provided\n",
    "no_batch = input.ndim == 2 \n",
    "\n",
    "# add an empty batch dimension if not provided\n",
    "if no_batch: \n",
    "    input = input.unsqueeze(0) \n",
    "\n",
    "# measure number of samples of each input matrix\n",
    "S = input.size(2) \n",
    "\n",
    "# subtract mean if doing centered covariance\n",
    "if centered:\n",
    "    input = input - input.mean(dim=2, keepdim=True) \n",
    "\n",
    "if corr:\n",
    "    # measure standard deviation\n",
    "    input_dev = torch.std(input, dim=2)\n",
    "    dev_correction = input_dev.unsqueeze(2) * input_dev.unsqueeze(1)\n",
    "\n",
    "    # mask out any part of the correlation matrix with zeros where var=0\n",
    "    idx_zeros = input_dev==0\n",
    "    zero_mask = torch.logical_or(idx_zeros.unsqueeze(2), idx_zeros.unsqueeze(1))\n",
    "    \n",
    "\n",
    "# measure covariance of each input matrix\n",
    "bcov = torch.bmm(input, input.transpose(1, 2))\n",
    "\n",
    "if corr:\n",
    "    bcov /= dev_correction\n",
    "    bcov = bcov.masked_fill(zero_mask, 0)\n",
    "\n",
    "print(bcov.shape)\n",
    "\n",
    "# correct for number of samples\n",
    "bcov /= (S-1)\n",
    "\n",
    "# remove empty batch dimension if not provided\n",
    "if no_batch: \n",
    "    bcov = bcov.squeeze(0) \n",
    "\n"
   ]
  },
  {
   "cell_type": "code",
   "execution_count": 74,
   "metadata": {},
   "outputs": [
    {
     "data": {
      "text/plain": [
       "tensor([[ 0.0000,  0.0000,  0.0000,  0.0000,  0.0000,  0.0000,  0.0000],\n",
       "        [ 0.0000,  1.0000, -0.0114,  0.0000,  0.0167,  0.0308, -0.0593],\n",
       "        [ 0.0000, -0.0114,  1.0000,  0.0000, -0.0391, -0.0305,  0.0267],\n",
       "        [ 0.0000,  0.0000,  0.0000,  0.0000,  0.0000,  0.0000,  0.0000],\n",
       "        [ 0.0000,  0.0167, -0.0391,  0.0000,  1.0000,  0.0224,  0.0096],\n",
       "        [ 0.0000,  0.0308, -0.0305,  0.0000,  0.0224,  1.0000, -0.0397],\n",
       "        [ 0.0000, -0.0593,  0.0267,  0.0000,  0.0096, -0.0397,  1.0000]])"
      ]
     },
     "execution_count": 74,
     "metadata": {},
     "output_type": "execute_result"
    }
   ],
   "source": [
    "bcov[0]"
   ]
  },
  {
   "cell_type": "code",
   "execution_count": 75,
   "metadata": {},
   "outputs": [
    {
     "data": {
      "text/plain": [
       "tensor([[ True,  True,  True,  True,  True,  True,  True],\n",
       "        [ True, False, False,  True, False, False, False],\n",
       "        [ True, False, False,  True, False, False, False],\n",
       "        [ True,  True,  True,  True,  True,  True,  True],\n",
       "        [ True, False, False,  True, False, False, False],\n",
       "        [ True, False, False,  True, False, False, False],\n",
       "        [ True, False, False,  True, False, False, False]])"
      ]
     },
     "execution_count": 75,
     "metadata": {},
     "output_type": "execute_result"
    }
   ],
   "source": [
    "zero_mask[0]"
   ]
  }
 ],
 "metadata": {
  "kernelspec": {
   "display_name": "networkAlignmentAnalysis",
   "language": "python",
   "name": "python3"
  },
  "language_info": {
   "codemirror_mode": {
    "name": "ipython",
    "version": 3
   },
   "file_extension": ".py",
   "mimetype": "text/x-python",
   "name": "python",
   "nbconvert_exporter": "python",
   "pygments_lexer": "ipython3",
   "version": "3.9.18"
  }
 },
 "nbformat": 4,
 "nbformat_minor": 2
}
