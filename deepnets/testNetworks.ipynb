{
 "cells": [
  {
   "cell_type": "code",
   "execution_count": 53,
   "id": "7391473d-8e4a-4159-b795-443f3c177d15",
   "metadata": {},
   "outputs": [
    {
     "name": "stdout",
     "output_type": "stream",
     "text": [
      "The autoreload extension is already loaded. To reload it, use:\n",
      "  %reload_ext autoreload\n",
      "Using device: cuda\n"
     ]
    }
   ],
   "source": [
    "%load_ext autoreload\n",
    "%autoreload 2\n",
    "\n",
    "import numpy as np\n",
    "import scipy as sp\n",
    "import matplotlib.pyplot as plt\n",
    "from matplotlib import cm\n",
    "\n",
    "import os, sys\n",
    "from glob import glob\n",
    "import time\n",
    "from tqdm import tqdm\n",
    "import torch\n",
    "import pickle\n",
    "from pathlib import Path\n",
    "\n",
    "import torch.nn as nn\n",
    "import torch.nn.functional as F\n",
    "from torchvision import transforms\n",
    "\n",
    "sys.path.append(\"../\")\n",
    "from deepnets import nnModels as models\n",
    "from deepnets import nnExperiments as nnexp\n",
    "from deepnets import nnUtilities as nnutils\n",
    "\n",
    "DEVICE = \"cuda\" if torch.cuda.is_available() else \"cpu\"\n",
    "print(f\"Using device: {DEVICE}\")\n",
    "\n",
    "dataPath = None"
   ]
  },
  {
   "cell_type": "code",
   "execution_count": 128,
   "id": "a98e0277-5623-496a-90da-7ab61d2c22bc",
   "metadata": {},
   "outputs": [
    {
     "name": "stdout",
     "output_type": "stream",
     "text": [
      "Initiating experiment using cuda\n",
      "Loss in epoch   0: 0.339, Accuracy: 90.20%.\n",
      "Loss in epoch   1: 0.220, Accuracy: 93.60%.\n",
      "Loss in epoch   2: 0.150, Accuracy: 95.50%.\n",
      "Loss in epoch   3: 0.097, Accuracy: 97.20%.\n",
      "Loss in epoch   4: 0.092, Accuracy: 97.40%.\n",
      "Loss in epoch   5: 0.152, Accuracy: 95.40%.\n",
      "Loss in epoch   6: 0.069, Accuracy: 98.00%.\n",
      "Loss in epoch   7: 0.047, Accuracy: 98.90%.\n",
      "Loss in epoch   8: 0.049, Accuracy: 98.50%.\n",
      "Loss in epoch   9: 0.034, Accuracy: 99.10%.\n",
      "Loss in epoch  10: 0.046, Accuracy: 98.60%.\n",
      "Loss in epoch  11: 0.042, Accuracy: 98.40%.\n",
      "Loss in epoch  12: 0.025, Accuracy: 99.20%.\n",
      "Loss in epoch  13: 0.018, Accuracy: 99.60%.\n",
      "Loss in epoch  14: 0.025, Accuracy: 99.30%.\n",
      "Loss in epoch  15: 0.029, Accuracy: 98.80%.\n",
      "Loss in epoch  16: 0.331, Accuracy: 91.60%.\n",
      "Loss in epoch  17: 0.012, Accuracy: 99.60%.\n",
      "Loss in epoch  18: 0.009, Accuracy: 99.70%.\n",
      "Loss in epoch  19: 0.005, Accuracy: 100.00%.\n",
      "Loss in epoch  20: 0.003, Accuracy: 100.00%.\n",
      "Loss in epoch  21: 0.015, Accuracy: 99.60%.\n",
      "Loss in epoch  22: 0.004, Accuracy: 99.90%.\n",
      "Loss in epoch  23: 0.005, Accuracy: 99.90%.\n",
      "Loss in epoch  24: 0.002, Accuracy: 100.00%.\n",
      "Loss in epoch  25: 0.002, Accuracy: 100.00%.\n",
      "Loss in epoch  26: 0.001, Accuracy: 100.00%.\n",
      "Loss in epoch  27: 0.005, Accuracy: 99.80%.\n",
      "Loss in epoch  28: 0.001, Accuracy: 100.00%.\n",
      "Loss in epoch  29: 0.001, Accuracy: 100.00%.\n",
      "Loss in epoch  30: 0.001, Accuracy: 100.00%.\n",
      "Loss in epoch  31: 0.001, Accuracy: 100.00%.\n",
      "Loss in epoch  32: 0.000, Accuracy: 100.00%.\n",
      "Loss in epoch  33: 0.000, Accuracy: 100.00%.\n",
      "Loss in epoch  34: 0.000, Accuracy: 100.00%.\n",
      "Loss in epoch  35: 0.000, Accuracy: 100.00%.\n",
      "Loss in epoch  36: 0.000, Accuracy: 100.00%.\n",
      "Loss in epoch  37: 0.000, Accuracy: 100.00%.\n",
      "Loss in epoch  38: 0.000, Accuracy: 100.00%.\n",
      "Loss in epoch  39: 0.000, Accuracy: 100.00%.\n",
      "Loss in epoch  40: 0.000, Accuracy: 100.00%.\n",
      "Loss in epoch  41: 0.000, Accuracy: 100.00%.\n",
      "Loss in epoch  42: 0.000, Accuracy: 100.00%.\n",
      "Loss in epoch  43: 0.000, Accuracy: 100.00%.\n",
      "Loss in epoch  44: 0.000, Accuracy: 100.00%.\n",
      "Loss in epoch  45: 0.000, Accuracy: 100.00%.\n",
      "Loss in epoch  46: 0.000, Accuracy: 100.00%.\n",
      "Loss in epoch  47: 0.000, Accuracy: 100.00%.\n",
      "Loss in epoch  48: 0.000, Accuracy: 100.00%.\n",
      "Loss in epoch  49: 0.000, Accuracy: 100.00%.\n",
      "Average loss over test set: 0.10.\n",
      "Accuracy over test set: 98.16%.\n",
      "Training process has finished in 125.998 seconds.\n"
     ]
    }
   ],
   "source": [
    "useNet='MLP4'\n",
    "iterations=50\n",
    "learningRate=5e-2\n",
    "verbose=True\n",
    "doInitWeights=False\n",
    "ojaAlpha=0\n",
    "pDropout=0\n",
    "\n",
    "# First, select device to run networks on\n",
    "if DEVICE is None:\n",
    "    DEVICE = \"cuda\" if torch.cuda.is_available() else \"cpu\"\n",
    "CPU = \"cpu\"\n",
    "print(f\"Initiating experiment using {DEVICE}\")\n",
    "\n",
    "# Prepare Network and Preprocessing\n",
    "batchSize = 1000\n",
    "weightvars = None # initialize variance of weights with default parameters\n",
    "if useNet=='CNN2P2':\n",
    "    convActivation = F.relu\n",
    "    linearActivation = F.relu\n",
    "    net = models.CNN2P2(convActivation=convActivation,linearActivation=linearActivation)\n",
    "\n",
    "    preprocess = transforms.Compose([\n",
    "        transforms.ToTensor(), # first, convert image to PyTorch tensor\n",
    "        transforms.Normalize((0.1307,), (0.3081,)), # normalize inputs\n",
    "    ])\n",
    "elif useNet=='MLP3':\n",
    "    actFunc = F.relu\n",
    "    net = models.MLP3(actFunc=actFunc)\n",
    "\n",
    "    preprocess = transforms.Compose([\n",
    "        transforms.ToTensor(), # first, convert image to PyTorch tensor\n",
    "        transforms.Normalize((0.1307,), (0.3081,)), # normalize inputs\n",
    "        transforms.Lambda(torch.flatten), # convert to vectors\n",
    "    ])\n",
    "elif useNet=='MLP4':\n",
    "    actFunc = F.relu\n",
    "    net = models.MLP4(actFunc=actFunc,pDropout=pDropout)\n",
    "\n",
    "    preprocess = transforms.Compose([\n",
    "        transforms.ToTensor(), # first, convert image to PyTorch tensor\n",
    "        transforms.Normalize((0.1307,), (0.3081,)), # normalize inputs\n",
    "        transforms.Lambda(torch.flatten), # convert to vectors\n",
    "    ])\n",
    "else:\n",
    "    raise ValueError('useNet not recognized')\n",
    "\n",
    "net.to(DEVICE)\n",
    "\n",
    "# Prepare Dataloaders\n",
    "trainloader, testloader, numClasses = nnutils.downloadMNIST(batchSize=batchSize, preprocess=preprocess)\n",
    "\n",
    "# Prepare Training Functions \n",
    "loss_function = nn.CrossEntropyLoss() # Note: this automatically applies softmax...\n",
    "# optimizer = torch.optim.SGD(net.parameters(), lr=learningRate)\n",
    "optimizer = torch.optim.Adadelta(net.parameters())\n",
    "\n",
    "# Preallocate summary variables  \n",
    "numTrainingSteps = len(trainloader)*iterations\n",
    "trackLoss = torch.zeros(numTrainingSteps)\n",
    "trackAccuracy = torch.zeros(numTrainingSteps)\n",
    "alignFull = []\n",
    "deltaWeights = []\n",
    "\n",
    "initWeights = net.getNetworkWeights()\n",
    "\n",
    "# Train Network & Measure Integration\n",
    "t = time.time()\n",
    "for epoch in range(0, iterations): \n",
    "    # Set current loss value\n",
    "    currentLoss = 0.0\n",
    "    numBatches = 0\n",
    "    currentCorrect = 0\n",
    "    currentAttempted = 0\n",
    "\n",
    "    for idx,batch in enumerate(trainloader):\n",
    "        cidx = epoch*len(trainloader) + idx\n",
    "\n",
    "        images, label = batch\n",
    "        images = images.to(DEVICE)\n",
    "        label = label.to(DEVICE)\n",
    "\n",
    "        # Zero the gradients\n",
    "        optimizer.zero_grad()\n",
    "\n",
    "        # Perform forward pass\n",
    "        outputs = net(images)\n",
    "\n",
    "        # Perform backward pass & optimization\n",
    "        loss = loss_function(outputs, label)\n",
    "        loss.backward()\n",
    "        optimizer.step()\n",
    "\n",
    "        if ojaAlpha>0:\n",
    "            net.doOjaUpdate(images, learningRate*ojaAlpha)\n",
    "\n",
    "        # Measure Integration\n",
    "        alignFull.append(net.measureAlignment(images))\n",
    "\n",
    "        # Measure Change in Weights\n",
    "        deltaWeights.append(net.compareNetworkWeights(initWeights))\n",
    "\n",
    "        # Track Loss and Accuracy\n",
    "        trackLoss[cidx] = loss.item()\n",
    "        trackAccuracy[cidx] = 100*torch.sum(torch.argmax(outputs,axis=1)==label)/images.shape[0]\n",
    "\n",
    "    # Print statistics for each epoch\n",
    "    if verbose: print('Loss in epoch %3d: %.3f, Accuracy: %.2f%%.' % (epoch, loss.item(), 100*torch.sum(torch.argmax(outputs,axis=1)==label)/images.shape[0]))\n",
    "\n",
    "# Measure performance on test set\n",
    "totalLoss = 0\n",
    "numCorrect = 0\n",
    "numAttempted = 0\n",
    "for batch in testloader:\n",
    "    images, label = batch\n",
    "    images = images.to(DEVICE)\n",
    "    label = label.to(DEVICE)\n",
    "    outputs = net(images)\n",
    "    totalLoss += loss_function(outputs,label).item()\n",
    "    output1 = torch.argmax(outputs,axis=1)\n",
    "    numCorrect += sum(output1==label)\n",
    "    numAttempted += images.shape[0]\n",
    "\n",
    "print(f\"Average loss over test set: %.2f.\" % (totalLoss / len(testloader)))\n",
    "print(f\"Accuracy over test set: %.2f%%.\" % (100*numCorrect/numAttempted))\n",
    "print('Training process has finished in %.3f seconds.' % (time.time()-t))\n",
    "\n",
    "results = {\n",
    "    'net':net,\n",
    "    'initWeights':initWeights,\n",
    "    'alignFull':alignFull,\n",
    "    'deltaWeights':deltaWeights,\n",
    "    'trackLoss':trackLoss,\n",
    "    'trackAccuracy':trackAccuracy,\n",
    "    'trainloader':trainloader,\n",
    "    'testloader':testloader,\n",
    "    'learningRate':learningRate,\n",
    "}"
   ]
  },
  {
   "cell_type": "code",
   "execution_count": null,
   "id": "50534099-0a9a-4677-b213-057692fabc21",
   "metadata": {},
   "outputs": [],
   "source": []
  },
  {
   "cell_type": "code",
   "execution_count": null,
   "id": "a32ff0d3-1ff8-482c-b64a-945e05469802",
   "metadata": {},
   "outputs": [],
   "source": []
  },
  {
   "cell_type": "code",
   "execution_count": null,
   "id": "c2d87e9c-ef74-4ce6-b14b-ba9caa6d8150",
   "metadata": {},
   "outputs": [],
   "source": []
  },
  {
   "cell_type": "code",
   "execution_count": null,
   "id": "21b9e045-1ec3-493e-b39a-9002738440a6",
   "metadata": {},
   "outputs": [],
   "source": []
  },
  {
   "cell_type": "code",
   "execution_count": null,
   "id": "f4e7b83d-a701-4b7f-9469-1c9a4d9d29ed",
   "metadata": {},
   "outputs": [],
   "source": []
  },
  {
   "cell_type": "code",
   "execution_count": null,
   "id": "243d4a1c-dcdf-40fd-a1a8-103ce0158058",
   "metadata": {},
   "outputs": [],
   "source": []
  },
  {
   "cell_type": "code",
   "execution_count": 135,
   "id": "54eea6f8-529a-43ae-a7a4-f15f95555d46",
   "metadata": {},
   "outputs": [],
   "source": [
    "# Code below will become single function to analyze eigenfeatures of each layer"
   ]
  },
  {
   "cell_type": "code",
   "execution_count": 130,
   "id": "babd8ea2-8444-417c-8d53-9ac2227882bb",
   "metadata": {},
   "outputs": [
    {
     "name": "stderr",
     "output_type": "stream",
     "text": [
      "100%|██████████████████████████████████████████████████████████████████████████████████| 60/60 [00:02<00:00, 24.48it/s]\n"
     ]
    }
   ],
   "source": [
    "# Measure Activations (without dropout) for all images\n",
    "storeDropout = net.getDropout()\n",
    "net.setDropout(0) # no dropout for measuring eigenfeatures\n",
    "allimages = []\n",
    "activations = []\n",
    "for images, label in tqdm(trainloader):    \n",
    "    allimages.append(images)\n",
    "    images = images.to(DEVICE)\n",
    "    label = label.to(DEVICE)\n",
    "    activations.append(net.getActivations(images))\n",
    "net.setDropout(storeDropout)"
   ]
  },
  {
   "cell_type": "code",
   "execution_count": 131,
   "id": "4514b18c-850f-41d8-bfe3-b907c183d7dc",
   "metadata": {},
   "outputs": [
    {
     "name": "stdout",
     "output_type": "stream",
     "text": [
      "torch.Size([60000, 784])\n",
      "torch.Size([60000, 100])\n",
      "torch.Size([60000, 100])\n",
      "torch.Size([60000, 50])\n"
     ]
    }
   ],
   "source": [
    "# Consolidate variable structure\n",
    "NL = net.numLayers\n",
    "allinputs = []\n",
    "allinputs.append(torch.cat(allimages,dim=0).detach().cpu())\n",
    "for layer in range(NL-1):\n",
    "    allinputs.append(torch.cat([cact[layer] for cact in activations],dim=0).detach().cpu())\n",
    "    \n",
    "for ai in allinputs: print(ai.shape)"
   ]
  },
  {
   "cell_type": "code",
   "execution_count": 132,
   "id": "d09f2894-1b34-4232-b27c-85d553fb8fff",
   "metadata": {},
   "outputs": [
    {
     "name": "stdout",
     "output_type": "stream",
     "text": [
      "EVal Shape: (784,), EVec Shape: (784, 784)\n",
      "EVal Shape: (100,), EVec Shape: (100, 100)\n",
      "EVal Shape: (100,), EVec Shape: (100, 100)\n",
      "EVal Shape: (50,), EVec Shape: (50, 50)\n"
     ]
    }
   ],
   "source": [
    "# Measure eigenfeatures for each layer\n",
    "eigenvalues = []\n",
    "eigenvectors = []\n",
    "for ai in allinputs:\n",
    "    w,v = sp.linalg.eigh(torch.cov(ai.T))\n",
    "    widx = np.argsort(w)[::-1]\n",
    "    w = w[widx]\n",
    "    v = v[:,widx]\n",
    "    eigenvalues.append(w)\n",
    "    eigenvectors.append(v)\n",
    "for evl,evc in zip(eigenvalues,eigenvectors):\n",
    "    print(f\"EVal Shape: {evl.shape}, EVec Shape: {evc.shape}\")"
   ]
  },
  {
   "cell_type": "code",
   "execution_count": 133,
   "id": "8f8b185c-00a5-43a1-b1ac-ad4d73403ea5",
   "metadata": {},
   "outputs": [
    {
     "name": "stdout",
     "output_type": "stream",
     "text": [
      "torch.Size([100, 784])\n",
      "torch.Size([100, 100])\n",
      "torch.Size([50, 100])\n",
      "torch.Size([10, 50])\n"
     ]
    }
   ],
   "source": [
    "# Measure dot product of weights for each layer\n",
    "beta = []\n",
    "netweights = net.getNetworkWeights()\n",
    "for evc,nw in zip(eigenvectors,netweights):\n",
    "    nw = nw / torch.norm(nw,dim=1,keepdim=True)\n",
    "    beta.append(torch.abs(nw.cpu() @ evc))\n",
    "for b in beta: print(b.shape)"
   ]
  },
  {
   "cell_type": "code",
   "execution_count": 134,
   "id": "c60a8c47-c1d8-4977-815c-c71f07c963d6",
   "metadata": {},
   "outputs": [
    {
     "data": {
      "image/png": "[encoded data removed]",
      "text/plain": [
       "<Figure size 1000x300 with 4 Axes>"
      ]
     },
     "metadata": {},
     "output_type": "display_data"
    }
   ],
   "source": [
    "fig,ax = plt.subplots(1,NL,figsize=(10,3))\n",
    "\n",
    "for layer in range(NL):\n",
    "    cNEV = len(eigenvalues[layer])\n",
    "    mnbeta = torch.mean(beta[layer],dim=0)\n",
    "    sebeta = torch.std(beta[layer],dim=0)\n",
    "    ax[layer].fill_between(range(cNEV), mnbeta+sebeta, mnbeta-sebeta, color='b', alpha=0.2)\n",
    "    ax[layer].plot(range(cNEV), mnbeta, c='b', label='AverageProjection')\n",
    "    ax[layer].plot(range(cNEV), eigenvalues[layer]/np.sum(eigenvalues[layer]), c='k', label='Eigenvalues')\n",
    "    ax[layer].set_xscale('log')\n",
    "    # ax[layer].set_yscale('log')"
   ]
  },
  {
   "cell_type": "code",
   "execution_count": null,
   "id": "45a1fc52-0cdb-4d79-ad25-d75458baed3f",
   "metadata": {},
   "outputs": [],
   "source": []
  },
  {
   "cell_type": "code",
   "execution_count": null,
   "id": "de7c19c7-406d-48f7-ae9f-ca3f9de79eb7",
   "metadata": {},
   "outputs": [],
   "source": []
  },
  {
   "cell_type": "code",
   "execution_count": null,
   "id": "645efa3c-bb0c-4cc9-a23f-a0ae0430f80d",
   "metadata": {},
   "outputs": [],
   "source": []
  },
  {
   "cell_type": "code",
   "execution_count": null,
   "id": "bddc1b2f-d859-48db-9e95-dfff225dec91",
   "metadata": {},
   "outputs": [],
   "source": []
  },
  {
   "cell_type": "code",
   "execution_count": null,
   "id": "867574e0-dfee-4e62-b4b7-96dbbe1a8711",
   "metadata": {},
   "outputs": [],
   "source": []
  },
  {
   "cell_type": "code",
   "execution_count": null,
   "id": "e9c2e277-7b19-498b-8c2f-209146de4491",
   "metadata": {},
   "outputs": [],
   "source": []
  },
  {
   "cell_type": "code",
   "execution_count": null,
   "id": "70cd7ca6-8afd-4ef4-af30-6f00e8784f4f",
   "metadata": {},
   "outputs": [],
   "source": []
  },
  {
   "cell_type": "code",
   "execution_count": null,
   "id": "fc494c4a-48ba-42fc-ba22-4aa1d925caee",
   "metadata": {},
   "outputs": [],
   "source": []
  },
  {
   "cell_type": "code",
   "execution_count": null,
   "id": "09bf5444-f870-4491-ba4a-dd867182b78c",
   "metadata": {},
   "outputs": [],
   "source": []
  },
  {
   "cell_type": "code",
   "execution_count": null,
   "id": "cf910cc4-e419-4aa3-91d9-6471fd4effb7",
   "metadata": {},
   "outputs": [],
   "source": []
  },
  {
   "cell_type": "code",
   "execution_count": null,
   "id": "c27c6822-d923-41f7-8654-4721accf2e41",
   "metadata": {},
   "outputs": [],
   "source": []
  }
 ],
 "metadata": {
  "kernelspec": {
   "display_name": "Python 3 (ipykernel)",
   "language": "python",
   "name": "python3"
  },
  "language_info": {
   "codemirror_mode": {
    "name": "ipython",
    "version": 3
   },
   "file_extension": ".py",
   "mimetype": "text/x-python",
   "name": "python",
   "nbconvert_exporter": "python",
   "pygments_lexer": "ipython3",
   "version": "3.9.13"
  }
 },
 "nbformat": 4,
 "nbformat_minor": 5
}
