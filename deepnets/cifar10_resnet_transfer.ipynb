{
 "cells": [
  {
   "cell_type": "code",
   "execution_count": 1,
   "id": "25df5f1b-3d24-4dc5-9b5a-129b8f4afc8f",
   "metadata": {},
   "outputs": [],
   "source": [
    "import numpy as np\n",
    "import matplotlib.pyplot as plt\n",
    "\n",
    "import os, sys\n",
    "import time\n",
    "import tqdm\n",
    "import torch\n",
    "import IPython\n",
    "import torchvision\n",
    "\n",
    "import torch.nn as nn\n",
    "import torch.nn.functional as F\n",
    "\n",
    "from torchvision import transforms\n",
    "from torchvision.utils import make_grid\n",
    "from torchvision.datasets import ImageFolder\n",
    "\n",
    "from PIL import Image\n",
    "from io import BytesIO"
   ]
  },
  {
   "cell_type": "code",
   "execution_count": 2,
   "id": "23be3d35",
   "metadata": {},
   "outputs": [],
   "source": [
    "dataPath = os.path.join('C:/', 'Users','andrew','Documents','machineLearning','datasets')"
   ]
  },
  {
   "cell_type": "code",
   "execution_count": 3,
   "id": "4ab0afc4-5aa1-4552-bed8-91d79f5ff531",
   "metadata": {},
   "outputs": [
    {
     "name": "stdout",
     "output_type": "stream",
     "text": [
      "Files already downloaded and verified\n",
      "Files already downloaded and verified\n"
     ]
    }
   ],
   "source": [
    "useNet = 'alexnet'\n",
    "if useNet=='resnet':\n",
    "    resnet = torchvision.models.resnet18(weights='DEFAULT')\n",
    "    preprocess = transforms.Compose([\n",
    "                                 transforms.Resize(256),\n",
    "                                 transforms.CenterCrop(224),\n",
    "                                 transforms.ToTensor(),\n",
    "                                 transforms.Normalize(mean=[0.485, 0.456, 0.406],\n",
    "                                                      std=[0.229, 0.224, 0.225]),\n",
    "                                 ])\n",
    "elif useNet=='alexnet':\n",
    "    alexnet = torchvision.models.alexnet(weights='DEFAULT')\n",
    "    preprocess = transforms.Compose([\n",
    "                                 transforms.Resize(256),\n",
    "                                 transforms.CenterCrop(224),\n",
    "                                 transforms.ToTensor(),\n",
    "                                 transforms.Normalize(mean=[0.485, 0.456, 0.406],\n",
    "                                                      std=[0.229, 0.224, 0.225]),\n",
    "                                 ])\n",
    "elif useNet=='squeezenet':\n",
    "    squeezenet = torchvision.models.squeezenet1_0(weights='DEFAULT')\n",
    "    preprocess = transforms.Compose([\n",
    "                                 transforms.Resize(256),\n",
    "                                 transforms.CenterCrop(224),\n",
    "                                 transforms.ToTensor(),\n",
    "                                 transforms.Normalize(mean=[0.485, 0.456, 0.406],\n",
    "                                                      std=[0.229, 0.224, 0.225]),\n",
    "                                 ])\n",
    "elif useNet=='efficientnet':\n",
    "    efficientnet = torchvision.models.efficientnet_b0(weights='DEFAULT')\n",
    "    preprocess = transforms.Compose([\n",
    "                                 transforms.Resize(256),\n",
    "                                 transforms.CenterCrop(224),\n",
    "                                 transforms.ToTensor(),\n",
    "                                 transforms.Normalize(mean=[0.485, 0.456, 0.406],\n",
    "                                                      std=[0.229, 0.224, 0.225]),\n",
    "                                 ])\n",
    "else:\n",
    "    raise ValueError(\"useNet string not recognized\")\n",
    "        \n",
    "dataSet = 'cifar100'\n",
    "if dataSet=='cifar10':\n",
    "    trainset = torchvision.datasets.CIFAR10(root=dataPath, train=True, download=True, transform=preprocess)\n",
    "    testset = torchvision.datasets.CIFAR10(root=dataPath, train=False, download=True, transform=preprocess)\n",
    "    trainloader = torch.utils.data.DataLoader(trainset, batch_size=32, shuffle=True, num_workers=2)\n",
    "    testloader = torch.utils.data.DataLoader(testset, batch_size=32, shuffle=True, num_workers=2)\n",
    "    numClasses = 10\n",
    "    \n",
    "elif dataSet=='cifar100':\n",
    "    trainset = torchvision.datasets.CIFAR100(root=dataPath, train=True, download=True, transform=preprocess)\n",
    "    testset = torchvision.datasets.CIFAR100(root=dataPath, train=False, download=True, transform=preprocess)\n",
    "    trainloader = torch.utils.data.DataLoader(trainset, batch_size=32, shuffle=True, num_workers=2)\n",
    "    testloader = torch.utils.data.DataLoader(testset, batch_size=32, shuffle=True, num_workers=2)\n",
    "    numClasses = 100\n",
    "    \n",
    "elif dataSet=='imagenet':\n",
    "    trainset = torchvision.datasets.ImageNet(root=imagenetPath, train=True, download=True, transform=preprocess)\n",
    "    testset = torchvision.datasets.ImageNet(root=imagenetPath, train=False, download=True, transform=preprocess)\n",
    "    trainloader = torch.utils.data.DataLoader(trainset, batch_size=1, shuffle=True, num_workers=2)\n",
    "    testloader = torch.utils.data.DataLoader(testset, batch_size=1, shuffle=True, num_workers=2)\n",
    "    numClasses = 1000\n",
    "    \n",
    "else:\n",
    "    raise ValueError(\"Dataset not recognized\")\n",
    "    "
   ]
  },
  {
   "cell_type": "code",
   "execution_count": 4,
   "id": "34c1ba1c-11eb-4a91-85e2-f1dc454ea2c8",
   "metadata": {},
   "outputs": [
    {
     "name": "stdout",
     "output_type": "stream",
     "text": [
      "cuda\n"
     ]
    }
   ],
   "source": [
    "DEVICE = \"cuda\" if torch.cuda.is_available() else \"cpu\"\n",
    "print(DEVICE)"
   ]
  },
  {
   "cell_type": "code",
   "execution_count": 5,
   "id": "64be7364-a6db-4535-ac48-97ea58cd5c5b",
   "metadata": {},
   "outputs": [],
   "source": [
    "if useNet=='resnet':\n",
    "    # Update classification layer for cifar10\n",
    "    for param in resnet.parameters():\n",
    "        param.requires_grad = False\n",
    "\n",
    "    # ResNet final fully connected layer\n",
    "    numFeatures = resnet.fc.in_features\n",
    "\n",
    "    resnet.fc = nn.Linear(numFeatures, numClasses)\n",
    "    resnet.to(DEVICE)\n",
    "    optimizer = torch.optim.Adam(resnet.fc.parameters(), lr=1e-2)\n",
    "    loss_fn = nn.CrossEntropyLoss()\n",
    "    \n",
    "elif useNet=='alexnet':\n",
    "    for param in alexnet.parameters():\n",
    "        param.requires_grad = False\n",
    "    numFeatures = alexnet.classifier[6].in_features\n",
    "    \n",
    "    alexnet.classifier[6] = nn.Linear(numFeatures, numClasses)\n",
    "    alexnet.to(DEVICE)\n",
    "    optimizer = torch.optim.Adam(alexnet.classifier[6].parameters(), lr=1e-2)\n",
    "    loss_fn = nn.CrossEntropyLoss()\n",
    "    \n",
    "elif useNet=='squeezenet':\n",
    "    for param in squeezenet.parameters():\n",
    "        param.requires_grad = False\n",
    "        \n",
    "    numFeatures = squeezenet.classifier[1].in_channels\n",
    "    kernel_size = squeezenet.classifier[1].kernel_size\n",
    "    stride = squeezenet.classifier[1].stride\n",
    "    \n",
    "    squeezenet.classifier[1] = nn.Conv2d(numFeatures, numClasses, kernel_size=kernel_size, stride=stride)\n",
    "    squeezenet.to(DEVICE)\n",
    "    optimizer = torch.optim.Adam(squeezenet.classifier[1].parameters(), lr=1e-2)\n",
    "    loss_fn = nn.CrossEntropyLoss()\n",
    "\n",
    "elif useNet=='efficientnet':\n",
    "    for param in efficientnet.parameters():\n",
    "        param.requires_grad = False\n",
    "        \n",
    "    numFeatures = efficientnet.classifier[1].in_features\n",
    "    efficientnet.classifier[1] = nn.Linear(numFeatures, numClasses)\n",
    "    efficientnet.to(DEVICE)\n",
    "    optimizer = torch.optim.Adam(efficientnet.classifier[1].parameters(), lr=1e-2)\n",
    "    loss_fn = nn.CrossEntropyLoss()\n",
    "    \n",
    "else:\n",
    "    raise ValueError(\"Didn't recognize useNet name (should be one of the above listed in if/elifs)\")"
   ]
  },
  {
   "cell_type": "code",
   "execution_count": 7,
   "id": "4337c67f-d7bb-4d71-9dd8-8c93d93eb3d3",
   "metadata": {},
   "outputs": [
    {
     "name": "stdout",
     "output_type": "stream",
     "text": [
      "AlexNet(\n",
      "  (features): Sequential(\n",
      "    (0): Conv2d(3, 64, kernel_size=(11, 11), stride=(4, 4), padding=(2, 2))\n",
      "    (1): ReLU(inplace=True)\n",
      "    (2): MaxPool2d(kernel_size=3, stride=2, padding=0, dilation=1, ceil_mode=False)\n",
      "    (3): Conv2d(64, 192, kernel_size=(5, 5), stride=(1, 1), padding=(2, 2))\n",
      "    (4): ReLU(inplace=True)\n",
      "    (5): MaxPool2d(kernel_size=3, stride=2, padding=0, dilation=1, ceil_mode=False)\n",
      "    (6): Conv2d(192, 384, kernel_size=(3, 3), stride=(1, 1), padding=(1, 1))\n",
      "    (7): ReLU(inplace=True)\n",
      "    (8): Conv2d(384, 256, kernel_size=(3, 3), stride=(1, 1), padding=(1, 1))\n",
      "    (9): ReLU(inplace=True)\n",
      "    (10): Conv2d(256, 256, kernel_size=(3, 3), stride=(1, 1), padding=(1, 1))\n",
      "    (11): ReLU(inplace=True)\n",
      "    (12): MaxPool2d(kernel_size=3, stride=2, padding=0, dilation=1, ceil_mode=False)\n",
      "  )\n",
      "  (avgpool): AdaptiveAvgPool2d(output_size=(6, 6))\n",
      "  (classifier): Sequential(\n",
      "    (0): Dropout(p=0.5, inplace=False)\n",
      "    (1): Linear(in_features=9216, out_features=4096, bias=True)\n",
      "    (2): ReLU(inplace=True)\n",
      "    (3): Dropout(p=0.5, inplace=False)\n",
      "    (4): Linear(in_features=4096, out_features=4096, bias=True)\n",
      "    (5): ReLU(inplace=True)\n",
      "    (6): Linear(in_features=4096, out_features=100, bias=True)\n",
      "  )\n",
      ")\n"
     ]
    }
   ],
   "source": [
    "print(alexnet)"
   ]
  },
  {
   "cell_type": "code",
   "execution_count": 6,
   "id": "5f6735a4-ee4f-4e34-a108-f03f7574543e",
   "metadata": {},
   "outputs": [
    {
     "data": {
      "image/png": "[encoded data removed]",
      "text/plain": [
       "<Figure size 640x480 with 1 Axes>"
      ]
     },
     "metadata": {},
     "output_type": "display_data"
    }
   ],
   "source": [
    "# @title Finetune readout of ResNet\n",
    "linreadout_accs = []\n",
    "numEpochs = 5\n",
    "\n",
    "for epoch in range(numEpochs):\n",
    "    print(f\"Working through epoch: {epoch+1}/{numEpochs}\")\n",
    "\n",
    "    # Eval loop\n",
    "    with torch.no_grad():\n",
    "        loss_sum = 0\n",
    "        total_correct = 0\n",
    "        total = len(testset)\n",
    "        for batch in testloader:\n",
    "            images, labels = batch\n",
    "            images = images.to(DEVICE)\n",
    "            labels = labels.to(DEVICE)\n",
    "            \n",
    "            if useNet=='resnet':\n",
    "                output = resnet(images)\n",
    "            elif useNet=='alexnet':\n",
    "                output = alexnet(images)\n",
    "            elif useNet=='squeezenet':\n",
    "                output = squeezenet(images)\n",
    "            elif useNet=='efficientnet':\n",
    "                output = efficientnet(images)\n",
    "            else:\n",
    "                raise ValueError(\"Didn't recognize useNet string\")\n",
    "                \n",
    "            loss = loss_fn(output, labels)\n",
    "            loss_sum += loss.item()\n",
    "\n",
    "            predictions = torch.argmax(output, dim=1)\n",
    "\n",
    "            num_correct = torch.sum(predictions == labels)\n",
    "            total_correct += num_correct\n",
    "\n",
    "        # Plot accuracy\n",
    "        linreadout_accs.append(total_correct.cpu() / total)\n",
    "        plt.plot(linreadout_accs)\n",
    "        plt.xlabel('epoch')\n",
    "        plt.ylabel('accuracy')\n",
    "        plt.title(dataSet + ' Prediction Accuracy'+' -(using)- '+useNet)\n",
    "        IPython.display.clear_output(wait=True)\n",
    "        IPython.display.display(plt.gcf())\n",
    "    plt.close()\n",
    "        \n",
    "    # Train loop\n",
    "    for batch in trainloader:\n",
    "        images, labels = batch\n",
    "        images = images.to(DEVICE)\n",
    "        labels = labels.to(DEVICE)\n",
    "\n",
    "        optimizer.zero_grad()\n",
    "        if useNet=='resnet':\n",
    "            output = resnet(images)\n",
    "        elif useNet=='alexnet':\n",
    "            output = alexnet(images)\n",
    "        elif useNet=='squeezenet':\n",
    "            output = squeezenet(images)\n",
    "        elif useNet=='efficientnet':\n",
    "            output = efficientnet(images)\n",
    "        else:\n",
    "            raise ValueError(\"Didn't recognize useNet string\")\n",
    "\n",
    "        loss = loss_fn(output, labels)\n",
    "        loss.backward()\n",
    "        optimizer.step()\n",
    "        \n",
    "# Do this once more time\n",
    "# Eval loop\n",
    "with torch.no_grad():\n",
    "    loss_sum = 0\n",
    "    total_correct = 0\n",
    "    total = len(testset)\n",
    "    for batch in testloader:\n",
    "        images, labels = batch\n",
    "        images = images.to(DEVICE)\n",
    "        labels = labels.to(DEVICE)\n",
    "        if useNet=='resnet':\n",
    "            output = resnet(images)\n",
    "        elif useNet=='alexnet':\n",
    "            output = alexnet(images)\n",
    "        elif useNet=='squeezenet':\n",
    "            output = squeezenet(images)\n",
    "        elif useNet=='efficientnet':\n",
    "            output = efficientnet(images)\n",
    "        else:\n",
    "            raise ValueError(\"Didn't recognize useNet string\")\n",
    "\n",
    "        loss = loss_fn(output, labels)\n",
    "        loss_sum += loss.item()\n",
    "\n",
    "        predictions = torch.argmax(output, dim=1)\n",
    "\n",
    "        num_correct = torch.sum(predictions == labels)\n",
    "        total_correct += num_correct\n",
    "\n",
    "    # Plot accuracy\n",
    "    linreadout_accs.append(total_correct.cpu() / total)\n",
    "    plt.plot(linreadout_accs)\n",
    "    plt.xlabel('epoch')\n",
    "    plt.ylabel('accuracy')\n",
    "    plt.title(dataSet + ' Prediction Accuracy'+' -(using)- '+useNet)\n",
    "    IPython.display.clear_output(wait=True)\n",
    "    IPython.display.display(plt.gcf())\n",
    "plt.close()"
   ]
  },
  {
   "cell_type": "code",
   "execution_count": 59,
   "id": "5a4ad5d6-d111-43fa-aa0a-ef07c4c4133c",
   "metadata": {},
   "outputs": [
    {
     "data": {
      "text/plain": [
       "<matplotlib.image.AxesImage at 0x228776327f0>"
      ]
     },
     "execution_count": 59,
     "metadata": {},
     "output_type": "execute_result"
    },
    {
     "data": {
      "image/png": "[encoded data removed]",
      "text/plain": [
       "<Figure size 640x480 with 1 Axes>"
      ]
     },
     "metadata": {},
     "output_type": "display_data"
    }
   ],
   "source": [
    "plt.imshow(output.cpu())"
   ]
  },
  {
   "cell_type": "code",
   "execution_count": null,
   "id": "1a7b5214-328b-4708-be95-c6990970f24e",
   "metadata": {},
   "outputs": [],
   "source": []
  },
  {
   "cell_type": "code",
   "execution_count": null,
   "id": "774b0517-2355-46ab-834b-d2c75c28d76c",
   "metadata": {},
   "outputs": [],
   "source": []
  },
  {
   "cell_type": "code",
   "execution_count": null,
   "id": "a60c8cd0-9afc-4e0d-ba86-a2dfa821a6ca",
   "metadata": {},
   "outputs": [],
   "source": []
  },
  {
   "cell_type": "code",
   "execution_count": null,
   "id": "32eb16a6-c53e-4db0-a8a9-6011f39370a6",
   "metadata": {},
   "outputs": [],
   "source": []
  },
  {
   "cell_type": "code",
   "execution_count": null,
   "id": "597bdb3d-6d3a-4b3f-aad4-87a068b8053a",
   "metadata": {},
   "outputs": [],
   "source": []
  },
  {
   "cell_type": "code",
   "execution_count": null,
   "id": "c7dc9e2d-991c-4328-819e-573300fa37fa",
   "metadata": {},
   "outputs": [],
   "source": []
  },
  {
   "cell_type": "code",
   "execution_count": null,
   "id": "817a012e-c3a4-4822-869c-4e5ee730465d",
   "metadata": {},
   "outputs": [],
   "source": []
  },
  {
   "cell_type": "code",
   "execution_count": null,
   "id": "17a97a19-2e1d-4d05-a79e-a95f1dc29485",
   "metadata": {},
   "outputs": [],
   "source": []
  },
  {
   "cell_type": "code",
   "execution_count": null,
   "id": "39009efb-81fa-40a8-b9db-09162968f2e8",
   "metadata": {},
   "outputs": [],
   "source": []
  },
  {
   "cell_type": "code",
   "execution_count": null,
   "id": "f3e24c2e-0348-4cc8-a803-52311ea7c3f2",
   "metadata": {},
   "outputs": [],
   "source": []
  },
  {
   "cell_type": "code",
   "execution_count": null,
   "id": "b0ce94c7-bf1d-4202-8dde-64cc3e0c25b3",
   "metadata": {},
   "outputs": [],
   "source": []
  },
  {
   "cell_type": "code",
   "execution_count": null,
   "id": "daf63ea4-4906-4e06-9c76-15af507f4c76",
   "metadata": {},
   "outputs": [],
   "source": []
  },
  {
   "cell_type": "code",
   "execution_count": null,
   "id": "83260c9f-0155-451b-b925-d90097132a09",
   "metadata": {},
   "outputs": [],
   "source": []
  },
  {
   "cell_type": "code",
   "execution_count": null,
   "id": "f1e5793f-a6e5-4f48-831b-407b2029023d",
   "metadata": {},
   "outputs": [],
   "source": []
  },
  {
   "cell_type": "code",
   "execution_count": null,
   "id": "14835b77-c71e-4996-95fc-5b12b17bdf52",
   "metadata": {},
   "outputs": [],
   "source": []
  },
  {
   "cell_type": "code",
   "execution_count": null,
   "id": "df845caa-31bc-4a37-b512-c87b6acc8969",
   "metadata": {},
   "outputs": [],
   "source": []
  },
  {
   "cell_type": "code",
   "execution_count": null,
   "id": "2404a7bc-7878-4ef5-98aa-c3ae249d59c1",
   "metadata": {},
   "outputs": [],
   "source": []
  },
  {
   "cell_type": "code",
   "execution_count": null,
   "id": "7d7bab87-3a29-489e-bfba-dd7f458855bc",
   "metadata": {},
   "outputs": [],
   "source": []
  },
  {
   "cell_type": "code",
   "execution_count": null,
   "id": "60be0ef2-e1d8-4691-b7a1-6a753557a801",
   "metadata": {},
   "outputs": [],
   "source": []
  },
  {
   "cell_type": "code",
   "execution_count": null,
   "id": "3901de6b-5116-4fcc-9227-28a2f4bebdd2",
   "metadata": {},
   "outputs": [],
   "source": []
  },
  {
   "cell_type": "code",
   "execution_count": null,
   "id": "d405631f-f309-4f71-b0ab-47a7b14a33a4",
   "metadata": {},
   "outputs": [],
   "source": []
  },
  {
   "cell_type": "code",
   "execution_count": null,
   "id": "d91a0889-fe02-438f-b0f3-c580d9a8db48",
   "metadata": {},
   "outputs": [],
   "source": []
  },
  {
   "cell_type": "code",
   "execution_count": null,
   "id": "6e86e693-51dc-466d-9719-6cfe71964c02",
   "metadata": {},
   "outputs": [],
   "source": []
  },
  {
   "cell_type": "code",
   "execution_count": null,
   "id": "2ac3f4f7-09d3-42cf-ac50-cee3e6c6a4a9",
   "metadata": {},
   "outputs": [],
   "source": []
  },
  {
   "cell_type": "code",
   "execution_count": null,
   "id": "a2c1d219-2831-4453-90ae-5a9911939925",
   "metadata": {},
   "outputs": [],
   "source": []
  },
  {
   "cell_type": "code",
   "execution_count": null,
   "id": "772fa543-cc0c-4ce8-9807-03d5babd86b4",
   "metadata": {},
   "outputs": [],
   "source": []
  },
  {
   "cell_type": "code",
   "execution_count": null,
   "id": "8d0e046c-753d-44d4-ac07-deb632d7cf59",
   "metadata": {},
   "outputs": [],
   "source": []
  },
  {
   "cell_type": "code",
   "execution_count": null,
   "id": "54b2dd6b-52a6-4b31-99dd-3be920de0573",
   "metadata": {},
   "outputs": [],
   "source": []
  },
  {
   "cell_type": "code",
   "execution_count": null,
   "id": "cc334a6e-cb4a-4280-9ddf-3b003f5a3128",
   "metadata": {},
   "outputs": [],
   "source": [
    "# Deal with data loading\n",
    "dataPath = \"/Users/landauland/Documents/ML-Datasets/cifar-10-batches-py\"\n",
    "import sys, os\n",
    "sys.path.append(dataPath) \n",
    "\n",
    "def unpickle(file):\n",
    "    import pickle\n",
    "    with open(file, 'rb') as fo:\n",
    "        dict = pickle.load(fo, encoding='bytes')\n",
    "    return dict\n",
    "\n",
    "# Get data\n",
    "numBatches = 5 # hard coded\n",
    "getName = lambda batch : f\"data_batch_{batch}\"\n",
    "data = []\n",
    "labels = []\n",
    "for cBatch in range(1,numBatches+1):\n",
    "    cDataDict = unpickle(os.path.join(dataPath,getName(cBatch)))\n",
    "    data.append(cDataDict[b'data'])\n",
    "    labels.append(cDataDict[b'labels'])\n",
    "data = np.concatenate(data, axis=0)\n",
    "labels = np.concatenate(labels, axis=0)\n",
    "\n",
    "testDict = unpickle(os.path.join(dataPath,'test_batch'))\n",
    "dataTest = testDict[b'data']\n",
    "labelTest = testDict[b'labels']\n",
    "\n",
    "numClasses = 10 # its cifar-10\n",
    "numImTr, imDim = data.shape\n",
    "numImTe = dataTest.shape[0]\n",
    "print(f\"{numImTr}, {numImTe}, {imDim}\")\n",
    "\n",
    "#trainloader = torch.utils.data.DataLoader(data, batch_size=16, shuffle=True, num_workers=2)\n",
    "#testloader = torch.utils.data.DataLoader(dataTest, batch_size=16, shuffle=True, num_workers=2)"
   ]
  }
 ],
 "metadata": {
  "kernelspec": {
   "display_name": "Python 3 (ipykernel)",
   "language": "python",
   "name": "python3"
  },
  "language_info": {
   "codemirror_mode": {
    "name": "ipython",
    "version": 3
   },
   "file_extension": ".py",
   "mimetype": "text/x-python",
   "name": "python",
   "nbconvert_exporter": "python",
   "pygments_lexer": "ipython3",
   "version": "3.9.13"
  }
 },
 "nbformat": 4,
 "nbformat_minor": 5
}
