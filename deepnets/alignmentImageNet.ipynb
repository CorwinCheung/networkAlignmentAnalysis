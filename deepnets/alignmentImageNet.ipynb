{
 "cells": [
  {
   "cell_type": "code",
   "execution_count": 2,
   "id": "2384fb23-7667-4c01-9a74-040fb054804c",
   "metadata": {},
   "outputs": [
    {
     "name": "stdout",
     "output_type": "stream",
     "text": [
      "Using device: cuda\n"
     ]
    }
   ],
   "source": [
    "%load_ext autoreload\n",
    "%autoreload 2\n",
    "\n",
    "import numpy as np\n",
    "import matplotlib.pyplot as plt\n",
    "from matplotlib import cm\n",
    "\n",
    "import os, sys\n",
    "from glob import glob\n",
    "import time\n",
    "from tqdm import tqdm\n",
    "import torch\n",
    "import pickle\n",
    "from pathlib import Path\n",
    "\n",
    "import torch.nn as nn\n",
    "import torch.nn.functional as F\n",
    "import torchvision\n",
    "from torchvision import transforms\n",
    "\n",
    "sys.path.append(\"../\") \n",
    "from deepnets import nnModels as models\n",
    "from deepnets import nnExperiments as nnexp\n",
    "\n",
    "DEVICE = \"cuda\" if torch.cuda.is_available() else \"cpu\"\n",
    "print(f\"Using device: {DEVICE}\")\n",
    "\n",
    "dataPath = None"
   ]
  },
  {
   "cell_type": "code",
   "execution_count": 3,
   "id": "7158bcd7-04c0-4986-b1dd-be5bc2d8ed8e",
   "metadata": {},
   "outputs": [],
   "source": [
    "valLoader = nnexp.downloadImageNet(batchSize=500)"
   ]
  },
  {
   "cell_type": "code",
   "execution_count": 4,
   "id": "12ebc19e-d855-4845-92aa-dced034d03a7",
   "metadata": {},
   "outputs": [],
   "source": [
    "alexnet = models.AlexNet(pDropout=0)\n",
    "alexnet.to(DEVICE);"
   ]
  },
  {
   "cell_type": "code",
   "execution_count": 5,
   "id": "c99357ee-54a9-4dad-962e-f58197dc0c58",
   "metadata": {},
   "outputs": [
    {
     "name": "stderr",
     "output_type": "stream",
     "text": [
      "100%|████████████████████████████████████████████████████████████████████████████████| 100/100 [05:33<00:00,  3.33s/it]\n"
     ]
    }
   ],
   "source": [
    "numCorrect = 0\n",
    "num1 = 0\n",
    "num5 = 0\n",
    "numAttempted = 0\n",
    "alignment = []\n",
    "for batch in tqdm(valLoader):\n",
    "    images, label = batch\n",
    "    images = images.to(DEVICE)\n",
    "    label = label.to(DEVICE)\n",
    "    \n",
    "    # Perform forward pass\n",
    "    outputs = alexnet(images)\n",
    "    alignment.append(alexnet.measureAlignment(images))\n",
    "    \n",
    "    # Measure performance\n",
    "    sortPred = torch.argsort(outputs, dim=1, descending=True)\n",
    "    num1 += torch.sum(sortPred[:,0]==label)\n",
    "    num5 += torch.sum(torch.any(sortPred[:,:5]==label[:,None], dim=1))\n",
    "    numCorrect += torch.sum(torch.argmax(outputs,axis=1)==label)\n",
    "    numAttempted += images.shape[0]\n",
    "\n",
    "# Report performance\n",
    "print(f\"acc@1: {100*num1/numAttempted:.3f}%\")\n",
    "print(f\"acc@5: {100*num5/numAttempted:.3f}%\")\n",
    "\n",
    "# Get summary statistics\n",
    "numLayers = len(alignment[0])\n",
    "alignMean = models.AlexNet.avgFromFull(alignment)\n",
    "alignLayer = []\n",
    "for layer in range(numLayers):\n",
    "    alignLayer.append(models.AlexNet.layerFromFull(alignment, layer))\n",
    "\n",
    "# Define dropout indices for each layer\n",
    "dropoutFraction = 0.25\n",
    "doIdxHi = []\n",
    "doIdxLo = []\n",
    "for layer in range(numLayers):\n",
    "    idxAlignment = torch.argsort(torch.mean(alignLayer[layer],dim=1))\n",
    "    numNeurons = len(idxAlignment)\n",
    "    num2drop = int(numNeurons * dropoutFraction)\n",
    "    doIdxHi.append(idxAlignment[-num2drop:])\n",
    "    doIdxLo.append(idxAlignment[:num2drop])"
   ]
  },
  {
   "cell_type": "code",
   "execution_count": 48,
   "id": "9045b0b5-d99d-47cb-bd33-57b4b564bf4c",
   "metadata": {},
   "outputs": [],
   "source": [
    "# Define dropout indices for each layer\n",
    "dropoutFraction = 0.9\n",
    "doIdxHi = []\n",
    "doIdxLo = []\n",
    "for layer in range(numLayers):\n",
    "    idxAlignment = torch.argsort(torch.mean(alignLayer[layer],dim=1))\n",
    "    numNeurons = len(idxAlignment)\n",
    "    num2drop = int(numNeurons * dropoutFraction)\n",
    "    doIdxHi.append(idxAlignment[-num2drop:])\n",
    "    doIdxLo.append(idxAlignment[:num2drop])"
   ]
  },
  {
   "cell_type": "code",
   "execution_count": 49,
   "id": "f704bce5-ca4d-4741-aed9-66bfd87d29c5",
   "metadata": {},
   "outputs": [
    {
     "name": "stderr",
     "output_type": "stream",
     "text": [
      "100%|████████████████████████████████████████████████████████████████████████████████| 100/100 [02:35<00:00,  1.55s/it]\n"
     ]
    }
   ],
   "source": [
    "num1 = 0\n",
    "num5 = 0\n",
    "numAttempted = 0\n",
    "doNumNoHi1 = np.zeros(numLayers-1)\n",
    "doNumNoHi5 = np.zeros(numLayers-1)\n",
    "doNumNoLo1 = np.zeros(numLayers-1)\n",
    "doNumNoLo5 = np.zeros(numLayers-1)\n",
    "for batch in tqdm(valLoader):\n",
    "    images, label = batch\n",
    "    images = images.to(DEVICE)\n",
    "    label = label.to(DEVICE)\n",
    "    numAttempted += images.shape[0]\n",
    "    \n",
    "    # Perform forward pass\n",
    "    outputs = alexnet(images)\n",
    "    \n",
    "    # Measure performance with full network\n",
    "    sortPred = torch.argsort(outputs, dim=1, descending=True)\n",
    "    num1 += torch.sum(sortPred[:,0]==label)\n",
    "    num5 += torch.sum(torch.any(sortPred[:,:5]==label[:,None], dim=1))\n",
    "    \n",
    "    # Measure performance with dropout in each layer\n",
    "    for layer in range(numLayers-1):\n",
    "        outNoHi = alexnet.targetedDropout(alexnet,images,idx=doIdxHi[layer],layer=layer)\n",
    "        sortPred = torch.argsort(outNoHi, dim=1, descending=True)\n",
    "        doNumNoHi1[layer] += torch.sum(sortPred[:,0]==label)\n",
    "        doNumNoHi5[layer] += torch.sum(torch.any(sortPred[:,:5]==label[:,None], dim=1))\n",
    "        \n",
    "        outNoLo = alexnet.targetedDropout(alexnet,images,idx=doIdxLo[layer],layer=layer)\n",
    "        sortPred = torch.argsort(outNoLo, dim=1, descending=True)\n",
    "        doNumNoLo1[layer] += torch.sum(sortPred[:,0]==label)\n",
    "        doNumNoLo5[layer] += torch.sum(torch.any(sortPred[:,:5]==label[:,None], dim=1))"
   ]
  },
  {
   "cell_type": "code",
   "execution_count": 50,
   "id": "91ae15bc-1f08-4c99-b80d-a3e1fb7b2f5f",
   "metadata": {},
   "outputs": [],
   "source": [
    "acc1 = 100*num1/numAttempted\n",
    "acc5 = 100*num5/numAttempted\n",
    "doAccNoHi1 = 100*doNumNoHi1/numAttempted\n",
    "doAccNoHi5 = 100*doNumNoHi5/numAttempted\n",
    "doAccNoLo1 = 100*doNumNoLo1/numAttempted\n",
    "doAccNoLo5 = 100*doNumNoLo5/numAttempted"
   ]
  },
  {
   "cell_type": "code",
   "execution_count": 51,
   "id": "e0a57cc7-05e9-41b4-88eb-1e08b25b4ecf",
   "metadata": {},
   "outputs": [
    {
     "data": {
      "text/plain": [
       "Text(0, 0.5, 'Acc@5')"
      ]
     },
     "execution_count": 51,
     "metadata": {},
     "output_type": "execute_result"
    },
    {
     "data": {
      "image/png": "[encoded data removed]",
      "text/plain": [
       "<Figure size 900x300 with 2 Axes>"
      ]
     },
     "metadata": {},
     "output_type": "display_data"
    }
   ],
   "source": [
    "mrkSize = 10\n",
    "\n",
    "fig,ax = plt.subplots(1,2,figsize=(9,3))\n",
    "\n",
    "ax[0].plot(range(numLayers-1), doAccNoHi1, c='r', marker='.', markersize=mrkSize, label=f'Drop {100*dropoutFraction}% Highest Alignment')\n",
    "ax[0].plot(range(numLayers-1), doAccNoLo1, c='b', marker='.', markersize=mrkSize, label=f'Drop {100*dropoutFraction}% Lowest Alignment')\n",
    "ax[0].plot(numLayers, acc1.cpu(), c='k', marker='.', markersize=mrkSize, label='Full Network')\n",
    "ax[0].legend(fontsize=8)\n",
    "ax[0].set_xlabel('Layer of Dropout')\n",
    "ax[0].set_ylabel('Acc@1')\n",
    "\n",
    "ax[1].plot(range(numLayers-1), doAccNoHi5, c='r', marker='.', markersize=mrkSize, label=f'Drop {100*dropoutFraction}% Highest Alignment')\n",
    "ax[1].plot(range(numLayers-1), doAccNoLo5, c='b', marker='.', markersize=mrkSize, label=f'Drop {100*dropoutFraction}% Lowest Alignment')\n",
    "ax[1].plot(numLayers, acc5.cpu(), c='k', marker='.', markersize=mrkSize, label='Full Network')\n",
    "ax[1].legend(fontsize=8)\n",
    "ax[1].set_xlabel('Layer of Dropout')\n",
    "ax[1].set_ylabel('Acc@5')\n"
   ]
  },
  {
   "cell_type": "code",
   "execution_count": null,
   "id": "313dd031-ddeb-4c03-bd72-45c476170206",
   "metadata": {},
   "outputs": [],
   "source": []
  },
  {
   "cell_type": "code",
   "execution_count": null,
   "id": "bafe8810-6abf-4b97-87f5-9bcdc3bad995",
   "metadata": {},
   "outputs": [],
   "source": []
  },
  {
   "cell_type": "code",
   "execution_count": null,
   "id": "7c7bd238-c38a-4800-a581-cbd711b1b066",
   "metadata": {},
   "outputs": [],
   "source": []
  },
  {
   "cell_type": "code",
   "execution_count": null,
   "id": "aa643c5e-1c08-423c-b4af-f852a3f9d969",
   "metadata": {},
   "outputs": [],
   "source": []
  },
  {
   "cell_type": "code",
   "execution_count": null,
   "id": "15d0adfe-5c97-4e27-babc-65f0ed38a18f",
   "metadata": {},
   "outputs": [],
   "source": []
  },
  {
   "cell_type": "code",
   "execution_count": null,
   "id": "61f9c997-d4d7-466f-b7c1-6d3cd4b3b443",
   "metadata": {},
   "outputs": [],
   "source": []
  },
  {
   "cell_type": "code",
   "execution_count": null,
   "id": "adf6b262-20e2-4de3-9f9c-cd85fc1e1fe4",
   "metadata": {},
   "outputs": [],
   "source": []
  },
  {
   "cell_type": "code",
   "execution_count": null,
   "id": "507ff567-0368-4c42-a478-56180a309ffb",
   "metadata": {},
   "outputs": [],
   "source": []
  },
  {
   "cell_type": "code",
   "execution_count": null,
   "id": "72022f5e-bc8c-48da-afbb-0d070f130027",
   "metadata": {},
   "outputs": [],
   "source": []
  },
  {
   "cell_type": "code",
   "execution_count": null,
   "id": "1c15bfaf-51a9-4b2a-87c6-b2009e4e9e10",
   "metadata": {},
   "outputs": [],
   "source": []
  }
 ],
 "metadata": {
  "kernelspec": {
   "display_name": "Python 3 (ipykernel)",
   "language": "python",
   "name": "python3"
  },
  "language_info": {
   "codemirror_mode": {
    "name": "ipython",
    "version": 3
   },
   "file_extension": ".py",
   "mimetype": "text/x-python",
   "name": "python",
   "nbconvert_exporter": "python",
   "pygments_lexer": "ipython3",
   "version": "3.9.13"
  }
 },
 "nbformat": 4,
 "nbformat_minor": 5
}
